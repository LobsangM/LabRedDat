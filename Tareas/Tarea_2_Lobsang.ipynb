{
 "cells": [
  {
   "cell_type": "code",
   "execution_count": 47,
   "metadata": {},
   "outputs": [],
   "source": [
    "#paquetes\n",
    "\n",
    "#import numpy as np \n",
    "import pandas as pd\n",
    "from plotly import express as px"
   ]
  },
  {
   "cell_type": "code",
   "execution_count": 48,
   "metadata": {},
   "outputs": [
    {
     "name": "stdout",
     "output_type": "stream",
     "text": [
      "Hola mundo\n"
     ]
    }
   ],
   "source": [
    "print('Hola mundo, mi nombre es Lobsang Méndez')\n"
   ]
  },
  {
   "cell_type": "code",
   "execution_count": 49,
   "metadata": {},
   "outputs": [
    {
     "name": "stdout",
     "output_type": "stream",
     "text": [
      "11\n"
     ]
    }
   ],
   "source": [
    "x = 3\n",
    "y = 8\n",
    "\n",
    "print(x+y)\n"
   ]
  },
  {
   "cell_type": "code",
   "execution_count": 50,
   "metadata": {},
   "outputs": [
    {
     "name": "stdout",
     "output_type": "stream",
     "text": [
      "Hola mundo, aquí la x vale 3 y la y vale 8, por lo que la suma es 11\n"
     ]
    }
   ],
   "source": [
    "print(f'Hola mundo soy Lobsang, aquí la x vale {x} y la y vale {y}, por lo que la suma es {x+y}')"
   ]
  },
  {
   "cell_type": "code",
   "execution_count": 51,
   "metadata": {},
   "outputs": [
    {
     "name": "stdout",
     "output_type": "stream",
     "text": [
      "Tu nombre es derek\n"
     ]
    }
   ],
   "source": [
    "name = input('Por favor indicame tu nombre')\n",
    "print(f'Tu nombre es {name}')"
   ]
  },
  {
   "cell_type": "code",
   "execution_count": 52,
   "metadata": {},
   "outputs": [
    {
     "name": "stdout",
     "output_type": "stream",
     "text": [
      "    species     island  bill_length_mm  bill_depth_mm  flipper_length_mm  \\\n",
      "0    Adelie  Torgersen            39.1           18.7              181.0   \n",
      "1    Adelie  Torgersen            39.5           17.4              186.0   \n",
      "2    Adelie  Torgersen            40.3           18.0              195.0   \n",
      "3    Adelie  Torgersen             NaN            NaN                NaN   \n",
      "4    Adelie  Torgersen            36.7           19.3              193.0   \n",
      "..      ...        ...             ...            ...                ...   \n",
      "339  Gentoo     Biscoe             NaN            NaN                NaN   \n",
      "340  Gentoo     Biscoe            46.8           14.3              215.0   \n",
      "341  Gentoo     Biscoe            50.4           15.7              222.0   \n",
      "342  Gentoo     Biscoe            45.2           14.8              212.0   \n",
      "343  Gentoo     Biscoe            49.9           16.1              213.0   \n",
      "\n",
      "     body_mass_g     sex  \n",
      "0         3750.0    MALE  \n",
      "1         3800.0  FEMALE  \n",
      "2         3250.0  FEMALE  \n",
      "3            NaN     NaN  \n",
      "4         3450.0  FEMALE  \n",
      "..           ...     ...  \n",
      "339          NaN     NaN  \n",
      "340       4850.0  FEMALE  \n",
      "341       5750.0    MALE  \n",
      "342       5200.0  FEMALE  \n",
      "343       5400.0    MALE  \n",
      "\n",
      "[344 rows x 7 columns]\n"
     ]
    }
   ],
   "source": [
    "data = pd.read_csv('https://raw.githubusercontent.com/mwaskom/seaborn-data/master/penguins.csv')\n",
    "print(data)"
   ]
  },
  {
   "cell_type": "code",
   "execution_count": 53,
   "metadata": {},
   "outputs": [
    {
     "data": {
      "text/html": [
       "<div>\n",
       "<style scoped>\n",
       "    .dataframe tbody tr th:only-of-type {\n",
       "        vertical-align: middle;\n",
       "    }\n",
       "\n",
       "    .dataframe tbody tr th {\n",
       "        vertical-align: top;\n",
       "    }\n",
       "\n",
       "    .dataframe thead th {\n",
       "        text-align: right;\n",
       "    }\n",
       "</style>\n",
       "<table border=\"1\" class=\"dataframe\">\n",
       "  <thead>\n",
       "    <tr style=\"text-align: right;\">\n",
       "      <th></th>\n",
       "      <th>species</th>\n",
       "      <th>island</th>\n",
       "      <th>bill_length_mm</th>\n",
       "      <th>bill_depth_mm</th>\n",
       "      <th>flipper_length_mm</th>\n",
       "      <th>body_mass_g</th>\n",
       "      <th>sex</th>\n",
       "    </tr>\n",
       "  </thead>\n",
       "  <tbody>\n",
       "    <tr>\n",
       "      <th>0</th>\n",
       "      <td>Adelie</td>\n",
       "      <td>Torgersen</td>\n",
       "      <td>39.1</td>\n",
       "      <td>18.7</td>\n",
       "      <td>181.0</td>\n",
       "      <td>3750.0</td>\n",
       "      <td>MALE</td>\n",
       "    </tr>\n",
       "    <tr>\n",
       "      <th>1</th>\n",
       "      <td>Adelie</td>\n",
       "      <td>Torgersen</td>\n",
       "      <td>39.5</td>\n",
       "      <td>17.4</td>\n",
       "      <td>186.0</td>\n",
       "      <td>3800.0</td>\n",
       "      <td>FEMALE</td>\n",
       "    </tr>\n",
       "    <tr>\n",
       "      <th>2</th>\n",
       "      <td>Adelie</td>\n",
       "      <td>Torgersen</td>\n",
       "      <td>40.3</td>\n",
       "      <td>18.0</td>\n",
       "      <td>195.0</td>\n",
       "      <td>3250.0</td>\n",
       "      <td>FEMALE</td>\n",
       "    </tr>\n",
       "    <tr>\n",
       "      <th>3</th>\n",
       "      <td>Adelie</td>\n",
       "      <td>Torgersen</td>\n",
       "      <td>NaN</td>\n",
       "      <td>NaN</td>\n",
       "      <td>NaN</td>\n",
       "      <td>NaN</td>\n",
       "      <td>NaN</td>\n",
       "    </tr>\n",
       "    <tr>\n",
       "      <th>4</th>\n",
       "      <td>Adelie</td>\n",
       "      <td>Torgersen</td>\n",
       "      <td>36.7</td>\n",
       "      <td>19.3</td>\n",
       "      <td>193.0</td>\n",
       "      <td>3450.0</td>\n",
       "      <td>FEMALE</td>\n",
       "    </tr>\n",
       "    <tr>\n",
       "      <th>...</th>\n",
       "      <td>...</td>\n",
       "      <td>...</td>\n",
       "      <td>...</td>\n",
       "      <td>...</td>\n",
       "      <td>...</td>\n",
       "      <td>...</td>\n",
       "      <td>...</td>\n",
       "    </tr>\n",
       "    <tr>\n",
       "      <th>339</th>\n",
       "      <td>Gentoo</td>\n",
       "      <td>Biscoe</td>\n",
       "      <td>NaN</td>\n",
       "      <td>NaN</td>\n",
       "      <td>NaN</td>\n",
       "      <td>NaN</td>\n",
       "      <td>NaN</td>\n",
       "    </tr>\n",
       "    <tr>\n",
       "      <th>340</th>\n",
       "      <td>Gentoo</td>\n",
       "      <td>Biscoe</td>\n",
       "      <td>46.8</td>\n",
       "      <td>14.3</td>\n",
       "      <td>215.0</td>\n",
       "      <td>4850.0</td>\n",
       "      <td>FEMALE</td>\n",
       "    </tr>\n",
       "    <tr>\n",
       "      <th>341</th>\n",
       "      <td>Gentoo</td>\n",
       "      <td>Biscoe</td>\n",
       "      <td>50.4</td>\n",
       "      <td>15.7</td>\n",
       "      <td>222.0</td>\n",
       "      <td>5750.0</td>\n",
       "      <td>MALE</td>\n",
       "    </tr>\n",
       "    <tr>\n",
       "      <th>342</th>\n",
       "      <td>Gentoo</td>\n",
       "      <td>Biscoe</td>\n",
       "      <td>45.2</td>\n",
       "      <td>14.8</td>\n",
       "      <td>212.0</td>\n",
       "      <td>5200.0</td>\n",
       "      <td>FEMALE</td>\n",
       "    </tr>\n",
       "    <tr>\n",
       "      <th>343</th>\n",
       "      <td>Gentoo</td>\n",
       "      <td>Biscoe</td>\n",
       "      <td>49.9</td>\n",
       "      <td>16.1</td>\n",
       "      <td>213.0</td>\n",
       "      <td>5400.0</td>\n",
       "      <td>MALE</td>\n",
       "    </tr>\n",
       "  </tbody>\n",
       "</table>\n",
       "<p>344 rows × 7 columns</p>\n",
       "</div>"
      ],
      "text/plain": [
       "    species     island  bill_length_mm  bill_depth_mm  flipper_length_mm  \\\n",
       "0    Adelie  Torgersen            39.1           18.7              181.0   \n",
       "1    Adelie  Torgersen            39.5           17.4              186.0   \n",
       "2    Adelie  Torgersen            40.3           18.0              195.0   \n",
       "3    Adelie  Torgersen             NaN            NaN                NaN   \n",
       "4    Adelie  Torgersen            36.7           19.3              193.0   \n",
       "..      ...        ...             ...            ...                ...   \n",
       "339  Gentoo     Biscoe             NaN            NaN                NaN   \n",
       "340  Gentoo     Biscoe            46.8           14.3              215.0   \n",
       "341  Gentoo     Biscoe            50.4           15.7              222.0   \n",
       "342  Gentoo     Biscoe            45.2           14.8              212.0   \n",
       "343  Gentoo     Biscoe            49.9           16.1              213.0   \n",
       "\n",
       "     body_mass_g     sex  \n",
       "0         3750.0    MALE  \n",
       "1         3800.0  FEMALE  \n",
       "2         3250.0  FEMALE  \n",
       "3            NaN     NaN  \n",
       "4         3450.0  FEMALE  \n",
       "..           ...     ...  \n",
       "339          NaN     NaN  \n",
       "340       4850.0  FEMALE  \n",
       "341       5750.0    MALE  \n",
       "342       5200.0  FEMALE  \n",
       "343       5400.0    MALE  \n",
       "\n",
       "[344 rows x 7 columns]"
      ]
     },
     "execution_count": 53,
     "metadata": {},
     "output_type": "execute_result"
    }
   ],
   "source": [
    "data"
   ]
  },
  {
   "cell_type": "code",
   "execution_count": 54,
   "metadata": {},
   "outputs": [
    {
     "data": {
      "text/plain": [
       "0      Adelie\n",
       "1      Adelie\n",
       "2      Adelie\n",
       "3      Adelie\n",
       "4      Adelie\n",
       "        ...  \n",
       "339    Gentoo\n",
       "340    Gentoo\n",
       "341    Gentoo\n",
       "342    Gentoo\n",
       "343    Gentoo\n",
       "Name: species, Length: 344, dtype: object"
      ]
     },
     "execution_count": 54,
     "metadata": {},
     "output_type": "execute_result"
    }
   ],
   "source": [
    "data['species']"
   ]
  },
  {
   "cell_type": "code",
   "execution_count": 55,
   "metadata": {},
   "outputs": [
    {
     "data": {
      "text/html": [
       "<div>\n",
       "<style scoped>\n",
       "    .dataframe tbody tr th:only-of-type {\n",
       "        vertical-align: middle;\n",
       "    }\n",
       "\n",
       "    .dataframe tbody tr th {\n",
       "        vertical-align: top;\n",
       "    }\n",
       "\n",
       "    .dataframe thead th {\n",
       "        text-align: right;\n",
       "    }\n",
       "</style>\n",
       "<table border=\"1\" class=\"dataframe\">\n",
       "  <thead>\n",
       "    <tr style=\"text-align: right;\">\n",
       "      <th></th>\n",
       "      <th>species</th>\n",
       "      <th>island</th>\n",
       "      <th>bill_length_mm</th>\n",
       "      <th>bill_depth_mm</th>\n",
       "      <th>flipper_length_mm</th>\n",
       "      <th>body_mass_g</th>\n",
       "      <th>sex</th>\n",
       "    </tr>\n",
       "  </thead>\n",
       "  <tbody>\n",
       "    <tr>\n",
       "      <th>220</th>\n",
       "      <td>Gentoo</td>\n",
       "      <td>Biscoe</td>\n",
       "      <td>46.1</td>\n",
       "      <td>13.2</td>\n",
       "      <td>211.0</td>\n",
       "      <td>4500.0</td>\n",
       "      <td>FEMALE</td>\n",
       "    </tr>\n",
       "    <tr>\n",
       "      <th>221</th>\n",
       "      <td>Gentoo</td>\n",
       "      <td>Biscoe</td>\n",
       "      <td>50.0</td>\n",
       "      <td>16.3</td>\n",
       "      <td>230.0</td>\n",
       "      <td>5700.0</td>\n",
       "      <td>MALE</td>\n",
       "    </tr>\n",
       "    <tr>\n",
       "      <th>222</th>\n",
       "      <td>Gentoo</td>\n",
       "      <td>Biscoe</td>\n",
       "      <td>48.7</td>\n",
       "      <td>14.1</td>\n",
       "      <td>210.0</td>\n",
       "      <td>4450.0</td>\n",
       "      <td>FEMALE</td>\n",
       "    </tr>\n",
       "    <tr>\n",
       "      <th>223</th>\n",
       "      <td>Gentoo</td>\n",
       "      <td>Biscoe</td>\n",
       "      <td>50.0</td>\n",
       "      <td>15.2</td>\n",
       "      <td>218.0</td>\n",
       "      <td>5700.0</td>\n",
       "      <td>MALE</td>\n",
       "    </tr>\n",
       "    <tr>\n",
       "      <th>224</th>\n",
       "      <td>Gentoo</td>\n",
       "      <td>Biscoe</td>\n",
       "      <td>47.6</td>\n",
       "      <td>14.5</td>\n",
       "      <td>215.0</td>\n",
       "      <td>5400.0</td>\n",
       "      <td>MALE</td>\n",
       "    </tr>\n",
       "    <tr>\n",
       "      <th>...</th>\n",
       "      <td>...</td>\n",
       "      <td>...</td>\n",
       "      <td>...</td>\n",
       "      <td>...</td>\n",
       "      <td>...</td>\n",
       "      <td>...</td>\n",
       "      <td>...</td>\n",
       "    </tr>\n",
       "    <tr>\n",
       "      <th>339</th>\n",
       "      <td>Gentoo</td>\n",
       "      <td>Biscoe</td>\n",
       "      <td>NaN</td>\n",
       "      <td>NaN</td>\n",
       "      <td>NaN</td>\n",
       "      <td>NaN</td>\n",
       "      <td>NaN</td>\n",
       "    </tr>\n",
       "    <tr>\n",
       "      <th>340</th>\n",
       "      <td>Gentoo</td>\n",
       "      <td>Biscoe</td>\n",
       "      <td>46.8</td>\n",
       "      <td>14.3</td>\n",
       "      <td>215.0</td>\n",
       "      <td>4850.0</td>\n",
       "      <td>FEMALE</td>\n",
       "    </tr>\n",
       "    <tr>\n",
       "      <th>341</th>\n",
       "      <td>Gentoo</td>\n",
       "      <td>Biscoe</td>\n",
       "      <td>50.4</td>\n",
       "      <td>15.7</td>\n",
       "      <td>222.0</td>\n",
       "      <td>5750.0</td>\n",
       "      <td>MALE</td>\n",
       "    </tr>\n",
       "    <tr>\n",
       "      <th>342</th>\n",
       "      <td>Gentoo</td>\n",
       "      <td>Biscoe</td>\n",
       "      <td>45.2</td>\n",
       "      <td>14.8</td>\n",
       "      <td>212.0</td>\n",
       "      <td>5200.0</td>\n",
       "      <td>FEMALE</td>\n",
       "    </tr>\n",
       "    <tr>\n",
       "      <th>343</th>\n",
       "      <td>Gentoo</td>\n",
       "      <td>Biscoe</td>\n",
       "      <td>49.9</td>\n",
       "      <td>16.1</td>\n",
       "      <td>213.0</td>\n",
       "      <td>5400.0</td>\n",
       "      <td>MALE</td>\n",
       "    </tr>\n",
       "  </tbody>\n",
       "</table>\n",
       "<p>124 rows × 7 columns</p>\n",
       "</div>"
      ],
      "text/plain": [
       "    species  island  bill_length_mm  bill_depth_mm  flipper_length_mm  \\\n",
       "220  Gentoo  Biscoe            46.1           13.2              211.0   \n",
       "221  Gentoo  Biscoe            50.0           16.3              230.0   \n",
       "222  Gentoo  Biscoe            48.7           14.1              210.0   \n",
       "223  Gentoo  Biscoe            50.0           15.2              218.0   \n",
       "224  Gentoo  Biscoe            47.6           14.5              215.0   \n",
       "..      ...     ...             ...            ...                ...   \n",
       "339  Gentoo  Biscoe             NaN            NaN                NaN   \n",
       "340  Gentoo  Biscoe            46.8           14.3              215.0   \n",
       "341  Gentoo  Biscoe            50.4           15.7              222.0   \n",
       "342  Gentoo  Biscoe            45.2           14.8              212.0   \n",
       "343  Gentoo  Biscoe            49.9           16.1              213.0   \n",
       "\n",
       "     body_mass_g     sex  \n",
       "220       4500.0  FEMALE  \n",
       "221       5700.0    MALE  \n",
       "222       4450.0  FEMALE  \n",
       "223       5700.0    MALE  \n",
       "224       5400.0    MALE  \n",
       "..           ...     ...  \n",
       "339          NaN     NaN  \n",
       "340       4850.0  FEMALE  \n",
       "341       5750.0    MALE  \n",
       "342       5200.0  FEMALE  \n",
       "343       5400.0    MALE  \n",
       "\n",
       "[124 rows x 7 columns]"
      ]
     },
     "execution_count": 55,
     "metadata": {},
     "output_type": "execute_result"
    }
   ],
   "source": [
    "gentoo_data = data[data['species'] == 'Gentoo']\n",
    "gentoo_data"
   ]
  },
  {
   "cell_type": "code",
   "execution_count": 56,
   "metadata": {},
   "outputs": [
    {
     "ename": "ValueError",
     "evalue": "Mime type rendering requires nbformat>=4.2.0 but it is not installed",
     "output_type": "error",
     "traceback": [
      "\u001b[1;31m---------------------------------------------------------------------------\u001b[0m",
      "\u001b[1;31mValueError\u001b[0m                                Traceback (most recent call last)",
      "File \u001b[1;32m~\\AppData\\Roaming\\Python\\Python310\\site-packages\\IPython\\core\\formatters.py:922\u001b[0m, in \u001b[0;36mIPythonDisplayFormatter.__call__\u001b[1;34m(self, obj)\u001b[0m\n\u001b[0;32m    920\u001b[0m method \u001b[38;5;241m=\u001b[39m get_real_method(obj, \u001b[38;5;28mself\u001b[39m\u001b[38;5;241m.\u001b[39mprint_method)\n\u001b[0;32m    921\u001b[0m \u001b[38;5;28;01mif\u001b[39;00m method \u001b[38;5;129;01mis\u001b[39;00m \u001b[38;5;129;01mnot\u001b[39;00m \u001b[38;5;28;01mNone\u001b[39;00m:\n\u001b[1;32m--> 922\u001b[0m     \u001b[43mmethod\u001b[49m\u001b[43m(\u001b[49m\u001b[43m)\u001b[49m\n\u001b[0;32m    923\u001b[0m     \u001b[38;5;28;01mreturn\u001b[39;00m \u001b[38;5;28;01mTrue\u001b[39;00m\n",
      "File \u001b[1;32mc:\\Users\\lobsa\\AppData\\Local\\Programs\\Python\\Python310\\lib\\site-packages\\plotly\\basedatatypes.py:832\u001b[0m, in \u001b[0;36mBaseFigure._ipython_display_\u001b[1;34m(self)\u001b[0m\n\u001b[0;32m    829\u001b[0m \u001b[38;5;28;01mimport\u001b[39;00m \u001b[38;5;21;01mplotly\u001b[39;00m\u001b[38;5;21;01m.\u001b[39;00m\u001b[38;5;21;01mio\u001b[39;00m \u001b[38;5;28;01mas\u001b[39;00m \u001b[38;5;21;01mpio\u001b[39;00m\n\u001b[0;32m    831\u001b[0m \u001b[38;5;28;01mif\u001b[39;00m pio\u001b[38;5;241m.\u001b[39mrenderers\u001b[38;5;241m.\u001b[39mrender_on_display \u001b[38;5;129;01mand\u001b[39;00m pio\u001b[38;5;241m.\u001b[39mrenderers\u001b[38;5;241m.\u001b[39mdefault:\n\u001b[1;32m--> 832\u001b[0m     \u001b[43mpio\u001b[49m\u001b[38;5;241;43m.\u001b[39;49m\u001b[43mshow\u001b[49m\u001b[43m(\u001b[49m\u001b[38;5;28;43mself\u001b[39;49m\u001b[43m)\u001b[49m\n\u001b[0;32m    833\u001b[0m \u001b[38;5;28;01melse\u001b[39;00m:\n\u001b[0;32m    834\u001b[0m     \u001b[38;5;28mprint\u001b[39m(\u001b[38;5;28mrepr\u001b[39m(\u001b[38;5;28mself\u001b[39m))\n",
      "File \u001b[1;32mc:\\Users\\lobsa\\AppData\\Local\\Programs\\Python\\Python310\\lib\\site-packages\\plotly\\io\\_renderers.py:394\u001b[0m, in \u001b[0;36mshow\u001b[1;34m(fig, renderer, validate, **kwargs)\u001b[0m\n\u001b[0;32m    389\u001b[0m         \u001b[38;5;28;01mraise\u001b[39;00m \u001b[38;5;167;01mValueError\u001b[39;00m(\n\u001b[0;32m    390\u001b[0m             \u001b[38;5;124m\"\u001b[39m\u001b[38;5;124mMime type rendering requires ipython but it is not installed\u001b[39m\u001b[38;5;124m\"\u001b[39m\n\u001b[0;32m    391\u001b[0m         )\n\u001b[0;32m    393\u001b[0m     \u001b[38;5;28;01mif\u001b[39;00m \u001b[38;5;129;01mnot\u001b[39;00m nbformat \u001b[38;5;129;01mor\u001b[39;00m Version(nbformat\u001b[38;5;241m.\u001b[39m__version__) \u001b[38;5;241m<\u001b[39m Version(\u001b[38;5;124m\"\u001b[39m\u001b[38;5;124m4.2.0\u001b[39m\u001b[38;5;124m\"\u001b[39m):\n\u001b[1;32m--> 394\u001b[0m         \u001b[38;5;28;01mraise\u001b[39;00m \u001b[38;5;167;01mValueError\u001b[39;00m(\n\u001b[0;32m    395\u001b[0m             \u001b[38;5;124m\"\u001b[39m\u001b[38;5;124mMime type rendering requires nbformat>=4.2.0 but it is not installed\u001b[39m\u001b[38;5;124m\"\u001b[39m\n\u001b[0;32m    396\u001b[0m         )\n\u001b[0;32m    398\u001b[0m     ipython_display\u001b[38;5;241m.\u001b[39mdisplay(bundle, raw\u001b[38;5;241m=\u001b[39m\u001b[38;5;28;01mTrue\u001b[39;00m)\n\u001b[0;32m    400\u001b[0m \u001b[38;5;66;03m# external renderers\u001b[39;00m\n",
      "\u001b[1;31mValueError\u001b[0m: Mime type rendering requires nbformat>=4.2.0 but it is not installed"
     ]
    },
    {
     "data": {
      "application/vnd.plotly.v1+json": {
       "config": {
        "plotlyServerURL": "https://plot.ly"
       },
       "data": [
        {
         "hovertemplate": "species=Adelie<br>sex=MALE<br>bill_length_mm=%{x}<br>bill_depth_mm=%{y}<extra></extra>",
         "legendgroup": "Adelie, MALE",
         "marker": {
          "color": "#636efa",
          "symbol": "circle"
         },
         "mode": "markers",
         "name": "Adelie, MALE",
         "orientation": "v",
         "showlegend": true,
         "type": "scatter",
         "x": [
          39.1,
          39.3,
          39.2,
          38.6,
          34.6,
          42.5,
          46,
          37.7,
          38.2,
          38.8,
          40.6,
          40.5,
          37.2,
          40.9,
          39.2,
          38.8,
          39.8,
          40.8,
          44.1,
          39.6,
          41.1,
          42.3,
          40.1,
          42,
          41.4,
          40.6,
          37.6,
          41.3,
          41.1,
          41.6,
          41.1,
          41.8,
          39.7,
          45.8,
          42.8,
          37.2,
          42.1,
          42.9,
          35.1,
          41.3,
          36.3,
          38.3,
          41.1,
          39.6,
          40.8,
          40.3,
          43.2,
          41,
          37.8,
          39.7,
          38.2,
          43.2,
          45.6,
          42.2,
          42.7,
          37.3,
          41.1,
          37.7,
          41.4,
          40.6,
          41.5,
          44.1,
          43.1,
          37.5,
          41.1,
          40.2,
          39.7,
          40.6,
          40.7,
          39,
          39.2,
          37.8,
          41.5
         ],
         "xaxis": "x",
         "y": [
          18.7,
          20.6,
          19.6,
          21.2,
          21.1,
          20.7,
          21.5,
          18.7,
          18.1,
          17.2,
          18.6,
          18.9,
          18.1,
          18.9,
          21.1,
          20,
          19.1,
          18.4,
          19.7,
          18.8,
          19,
          21.2,
          18.9,
          19.5,
          18.6,
          18.8,
          19.1,
          21.1,
          18.2,
          18,
          19.1,
          19.4,
          18.4,
          18.9,
          18.5,
          19.4,
          19.1,
          17.6,
          19.4,
          20.3,
          19.5,
          19.2,
          18.1,
          18.1,
          18.9,
          18.5,
          18.5,
          20,
          20,
          18.9,
          20,
          19,
          20.3,
          19.5,
          18.3,
          20.5,
          18.6,
          19.8,
          18.5,
          19,
          18.3,
          18,
          19.2,
          18.5,
          17.5,
          20.1,
          17.9,
          17.2,
          17,
          18.7,
          18.6,
          18.1,
          18.5
         ],
         "yaxis": "y"
        },
        {
         "hovertemplate": "species=Adelie<br>sex=FEMALE<br>bill_length_mm=%{x}<br>bill_depth_mm=%{y}<extra></extra>",
         "legendgroup": "Adelie, FEMALE",
         "marker": {
          "color": "#636efa",
          "symbol": "diamond"
         },
         "mode": "markers",
         "name": "Adelie, FEMALE",
         "orientation": "v",
         "showlegend": true,
         "type": "scatter",
         "x": [
          39.5,
          40.3,
          36.7,
          38.9,
          41.1,
          36.6,
          38.7,
          34.4,
          37.8,
          35.9,
          35.3,
          40.5,
          37.9,
          39.5,
          39.5,
          36.4,
          42.2,
          37.6,
          36.5,
          36,
          37,
          36,
          39.6,
          35,
          34.5,
          39,
          36.5,
          35.7,
          37.6,
          36.4,
          35.5,
          35.9,
          33.5,
          39.6,
          35.5,
          40.9,
          36.2,
          34.6,
          36.7,
          37.3,
          36.9,
          38.9,
          35.7,
          34,
          36.2,
          38.1,
          33.1,
          35,
          37.7,
          37.9,
          38.6,
          38.1,
          38.1,
          39.7,
          39.6,
          38.6,
          35.7,
          36.2,
          40.2,
          35.2,
          38.8,
          39,
          38.5,
          36.8,
          38.1,
          35.6,
          37,
          40.2,
          32.1,
          37.3,
          36.6,
          36,
          36
         ],
         "xaxis": "x",
         "y": [
          17.4,
          18,
          19.3,
          17.8,
          17.6,
          17.8,
          19,
          18.4,
          18.3,
          19.2,
          18.9,
          17.9,
          18.6,
          16.7,
          17.8,
          17,
          18.5,
          19.3,
          18,
          18.5,
          16.9,
          17.9,
          17.7,
          17.9,
          18.1,
          17.5,
          16.6,
          16.9,
          17,
          17.1,
          16.2,
          16.6,
          19,
          17.2,
          17.5,
          16.8,
          16.1,
          17.2,
          18.8,
          17.8,
          18.6,
          18.8,
          18,
          17.1,
          17.3,
          18.6,
          16.1,
          17.9,
          16,
          18.6,
          17.2,
          17,
          16.5,
          17.7,
          20.7,
          17,
          17,
          17.2,
          17,
          15.9,
          17.6,
          17.1,
          17.9,
          18.5,
          17.6,
          17.5,
          16.5,
          17.1,
          15.5,
          16.8,
          18.4,
          17.8,
          17.1
         ],
         "yaxis": "y"
        },
        {
         "hovertemplate": "species=Chinstrap<br>sex=MALE<br>bill_length_mm=%{x}<br>bill_depth_mm=%{y}<extra></extra>",
         "legendgroup": "Chinstrap, MALE",
         "marker": {
          "color": "#EF553B",
          "symbol": "circle"
         },
         "mode": "markers",
         "name": "Chinstrap, MALE",
         "orientation": "v",
         "showlegend": true,
         "type": "scatter",
         "x": [
          50,
          51.3,
          52.7,
          51.3,
          51.3,
          51.7,
          52,
          50.5,
          50.3,
          49.2,
          48.5,
          50.6,
          52,
          49.5,
          52.8,
          54.2,
          51,
          49.7,
          52,
          53.5,
          49,
          50.9,
          50.8,
          49,
          51.5,
          51.4,
          50.7,
          52.2,
          49.3,
          50.2,
          51.9,
          55.8,
          49.6,
          50.8
         ],
         "xaxis": "x",
         "y": [
          19.5,
          19.2,
          19.8,
          18.2,
          19.9,
          20.3,
          18.1,
          19.6,
          20,
          18.2,
          17.5,
          19.4,
          19,
          19,
          20,
          20.8,
          18.8,
          18.6,
          20.7,
          19.9,
          19.5,
          19.1,
          18.5,
          19.6,
          18.7,
          19,
          19.7,
          18.8,
          19.9,
          18.8,
          19.5,
          19.8,
          18.2,
          19
         ],
         "yaxis": "y"
        },
        {
         "hovertemplate": "species=Chinstrap<br>sex=FEMALE<br>bill_length_mm=%{x}<br>bill_depth_mm=%{y}<extra></extra>",
         "legendgroup": "Chinstrap, FEMALE",
         "marker": {
          "color": "#EF553B",
          "symbol": "diamond"
         },
         "mode": "markers",
         "name": "Chinstrap, FEMALE",
         "orientation": "v",
         "showlegend": true,
         "type": "scatter",
         "x": [
          46.5,
          45.4,
          45.2,
          46.1,
          46,
          46.6,
          47,
          45.9,
          58,
          46.4,
          42.4,
          43.2,
          46.7,
          50.5,
          46.4,
          40.9,
          42.5,
          47.5,
          47.6,
          46.9,
          46.2,
          45.5,
          50.9,
          50.1,
          49.8,
          48.1,
          45.7,
          42.5,
          45.2,
          45.6,
          46.8,
          45.7,
          43.5,
          50.2
         ],
         "xaxis": "x",
         "y": [
          17.9,
          18.7,
          17.8,
          18.2,
          18.9,
          17.8,
          17.3,
          17.1,
          17.8,
          18.6,
          17.3,
          16.6,
          17.9,
          18.4,
          17.8,
          16.6,
          16.7,
          16.8,
          18.3,
          16.6,
          17.5,
          17,
          17.9,
          17.9,
          17.3,
          16.4,
          17.3,
          17.3,
          16.6,
          19.4,
          16.5,
          17,
          18.1,
          18.7
         ],
         "yaxis": "y"
        },
        {
         "hovertemplate": "species=Gentoo<br>sex=MALE<br>bill_length_mm=%{x}<br>bill_depth_mm=%{y}<extra></extra>",
         "legendgroup": "Gentoo, MALE",
         "marker": {
          "color": "#00cc96",
          "symbol": "circle"
         },
         "mode": "markers",
         "name": "Gentoo, MALE",
         "orientation": "v",
         "showlegend": true,
         "type": "scatter",
         "x": [
          50,
          50,
          47.6,
          46.7,
          46.8,
          49,
          48.4,
          49.3,
          49.2,
          48.7,
          50.2,
          46.3,
          46.1,
          47.8,
          50,
          47.3,
          59.6,
          48.4,
          44.4,
          48.7,
          49.6,
          49.6,
          50.5,
          50.5,
          45.2,
          48.5,
          50.1,
          45,
          45.5,
          50.4,
          46.2,
          54.3,
          49.8,
          49.5,
          50.7,
          46.4,
          48.2,
          48.6,
          51.1,
          45.2,
          52.5,
          50,
          50.8,
          51.3,
          52.1,
          52.2,
          49.5,
          50.8,
          49.4,
          51.1,
          55.9,
          49.1,
          46.8,
          53.4,
          48.1,
          49.8,
          51.5,
          55.1,
          48.8,
          50.4,
          49.9
         ],
         "xaxis": "x",
         "y": [
          16.3,
          15.2,
          14.5,
          15.3,
          15.4,
          16.1,
          14.6,
          15.7,
          15.2,
          15.1,
          14.3,
          15.8,
          15.1,
          15,
          15.3,
          15.3,
          17,
          16.3,
          17.3,
          15.7,
          16,
          15,
          15.9,
          15.9,
          15.8,
          14.1,
          15,
          15.4,
          15,
          15.3,
          14.9,
          15.7,
          16.8,
          16.2,
          15,
          15.6,
          15.6,
          16,
          16.3,
          16.4,
          15.6,
          15.9,
          17.3,
          14.2,
          17,
          17.1,
          16.1,
          15.7,
          15.8,
          16.5,
          17,
          15,
          16.1,
          15.8,
          15.1,
          15.9,
          16.3,
          16,
          16.2,
          15.7,
          16.1
         ],
         "yaxis": "y"
        },
        {
         "hovertemplate": "species=Gentoo<br>sex=FEMALE<br>bill_length_mm=%{x}<br>bill_depth_mm=%{y}<extra></extra>",
         "legendgroup": "Gentoo, FEMALE",
         "marker": {
          "color": "#00cc96",
          "symbol": "diamond"
         },
         "mode": "markers",
         "name": "Gentoo, FEMALE",
         "orientation": "v",
         "showlegend": true,
         "type": "scatter",
         "x": [
          46.1,
          48.7,
          46.5,
          45.4,
          43.3,
          40.9,
          45.5,
          45.8,
          42,
          46.2,
          45.1,
          46.5,
          42.9,
          48.2,
          42.8,
          45.1,
          49.1,
          42.6,
          44,
          42.7,
          45.3,
          43.6,
          45.5,
          44.9,
          46.6,
          45.1,
          46.5,
          43.8,
          43.2,
          45.3,
          45.7,
          45.8,
          43.5,
          47.7,
          46.5,
          46.4,
          47.5,
          45.2,
          49.1,
          47.4,
          44.9,
          43.4,
          47.5,
          47.5,
          45.5,
          44.5,
          46.9,
          48.4,
          48.5,
          47.2,
          41.7,
          43.3,
          50.5,
          43.5,
          46.2,
          47.2,
          46.8,
          45.2
         ],
         "xaxis": "x",
         "y": [
          13.2,
          14.1,
          13.5,
          14.6,
          13.4,
          13.7,
          13.7,
          14.6,
          13.5,
          14.5,
          14.5,
          14.5,
          13.1,
          14.3,
          14.2,
          14.5,
          14.8,
          13.7,
          13.6,
          13.7,
          13.7,
          13.9,
          13.9,
          13.3,
          14.2,
          14.4,
          14.4,
          13.9,
          14.5,
          13.8,
          13.9,
          14.2,
          14.2,
          15,
          14.8,
          15,
          14.2,
          13.8,
          14.5,
          14.6,
          13.8,
          14.4,
          14,
          15,
          14.5,
          14.7,
          14.6,
          14.4,
          15,
          15.5,
          14.7,
          14,
          15.2,
          15.2,
          14.1,
          13.7,
          14.3,
          14.8
         ],
         "yaxis": "y"
        }
       ],
       "layout": {
        "legend": {
         "title": {
          "text": "species, sex"
         },
         "tracegroupgap": 0
        },
        "margin": {
         "t": 60
        },
        "template": {
         "data": {
          "bar": [
           {
            "error_x": {
             "color": "#2a3f5f"
            },
            "error_y": {
             "color": "#2a3f5f"
            },
            "marker": {
             "line": {
              "color": "#E5ECF6",
              "width": 0.5
             },
             "pattern": {
              "fillmode": "overlay",
              "size": 10,
              "solidity": 0.2
             }
            },
            "type": "bar"
           }
          ],
          "barpolar": [
           {
            "marker": {
             "line": {
              "color": "#E5ECF6",
              "width": 0.5
             },
             "pattern": {
              "fillmode": "overlay",
              "size": 10,
              "solidity": 0.2
             }
            },
            "type": "barpolar"
           }
          ],
          "carpet": [
           {
            "aaxis": {
             "endlinecolor": "#2a3f5f",
             "gridcolor": "white",
             "linecolor": "white",
             "minorgridcolor": "white",
             "startlinecolor": "#2a3f5f"
            },
            "baxis": {
             "endlinecolor": "#2a3f5f",
             "gridcolor": "white",
             "linecolor": "white",
             "minorgridcolor": "white",
             "startlinecolor": "#2a3f5f"
            },
            "type": "carpet"
           }
          ],
          "choropleth": [
           {
            "colorbar": {
             "outlinewidth": 0,
             "ticks": ""
            },
            "type": "choropleth"
           }
          ],
          "contour": [
           {
            "colorbar": {
             "outlinewidth": 0,
             "ticks": ""
            },
            "colorscale": [
             [
              0,
              "#0d0887"
             ],
             [
              0.1111111111111111,
              "#46039f"
             ],
             [
              0.2222222222222222,
              "#7201a8"
             ],
             [
              0.3333333333333333,
              "#9c179e"
             ],
             [
              0.4444444444444444,
              "#bd3786"
             ],
             [
              0.5555555555555556,
              "#d8576b"
             ],
             [
              0.6666666666666666,
              "#ed7953"
             ],
             [
              0.7777777777777778,
              "#fb9f3a"
             ],
             [
              0.8888888888888888,
              "#fdca26"
             ],
             [
              1,
              "#f0f921"
             ]
            ],
            "type": "contour"
           }
          ],
          "contourcarpet": [
           {
            "colorbar": {
             "outlinewidth": 0,
             "ticks": ""
            },
            "type": "contourcarpet"
           }
          ],
          "heatmap": [
           {
            "colorbar": {
             "outlinewidth": 0,
             "ticks": ""
            },
            "colorscale": [
             [
              0,
              "#0d0887"
             ],
             [
              0.1111111111111111,
              "#46039f"
             ],
             [
              0.2222222222222222,
              "#7201a8"
             ],
             [
              0.3333333333333333,
              "#9c179e"
             ],
             [
              0.4444444444444444,
              "#bd3786"
             ],
             [
              0.5555555555555556,
              "#d8576b"
             ],
             [
              0.6666666666666666,
              "#ed7953"
             ],
             [
              0.7777777777777778,
              "#fb9f3a"
             ],
             [
              0.8888888888888888,
              "#fdca26"
             ],
             [
              1,
              "#f0f921"
             ]
            ],
            "type": "heatmap"
           }
          ],
          "heatmapgl": [
           {
            "colorbar": {
             "outlinewidth": 0,
             "ticks": ""
            },
            "colorscale": [
             [
              0,
              "#0d0887"
             ],
             [
              0.1111111111111111,
              "#46039f"
             ],
             [
              0.2222222222222222,
              "#7201a8"
             ],
             [
              0.3333333333333333,
              "#9c179e"
             ],
             [
              0.4444444444444444,
              "#bd3786"
             ],
             [
              0.5555555555555556,
              "#d8576b"
             ],
             [
              0.6666666666666666,
              "#ed7953"
             ],
             [
              0.7777777777777778,
              "#fb9f3a"
             ],
             [
              0.8888888888888888,
              "#fdca26"
             ],
             [
              1,
              "#f0f921"
             ]
            ],
            "type": "heatmapgl"
           }
          ],
          "histogram": [
           {
            "marker": {
             "pattern": {
              "fillmode": "overlay",
              "size": 10,
              "solidity": 0.2
             }
            },
            "type": "histogram"
           }
          ],
          "histogram2d": [
           {
            "colorbar": {
             "outlinewidth": 0,
             "ticks": ""
            },
            "colorscale": [
             [
              0,
              "#0d0887"
             ],
             [
              0.1111111111111111,
              "#46039f"
             ],
             [
              0.2222222222222222,
              "#7201a8"
             ],
             [
              0.3333333333333333,
              "#9c179e"
             ],
             [
              0.4444444444444444,
              "#bd3786"
             ],
             [
              0.5555555555555556,
              "#d8576b"
             ],
             [
              0.6666666666666666,
              "#ed7953"
             ],
             [
              0.7777777777777778,
              "#fb9f3a"
             ],
             [
              0.8888888888888888,
              "#fdca26"
             ],
             [
              1,
              "#f0f921"
             ]
            ],
            "type": "histogram2d"
           }
          ],
          "histogram2dcontour": [
           {
            "colorbar": {
             "outlinewidth": 0,
             "ticks": ""
            },
            "colorscale": [
             [
              0,
              "#0d0887"
             ],
             [
              0.1111111111111111,
              "#46039f"
             ],
             [
              0.2222222222222222,
              "#7201a8"
             ],
             [
              0.3333333333333333,
              "#9c179e"
             ],
             [
              0.4444444444444444,
              "#bd3786"
             ],
             [
              0.5555555555555556,
              "#d8576b"
             ],
             [
              0.6666666666666666,
              "#ed7953"
             ],
             [
              0.7777777777777778,
              "#fb9f3a"
             ],
             [
              0.8888888888888888,
              "#fdca26"
             ],
             [
              1,
              "#f0f921"
             ]
            ],
            "type": "histogram2dcontour"
           }
          ],
          "mesh3d": [
           {
            "colorbar": {
             "outlinewidth": 0,
             "ticks": ""
            },
            "type": "mesh3d"
           }
          ],
          "parcoords": [
           {
            "line": {
             "colorbar": {
              "outlinewidth": 0,
              "ticks": ""
             }
            },
            "type": "parcoords"
           }
          ],
          "pie": [
           {
            "automargin": true,
            "type": "pie"
           }
          ],
          "scatter": [
           {
            "fillpattern": {
             "fillmode": "overlay",
             "size": 10,
             "solidity": 0.2
            },
            "type": "scatter"
           }
          ],
          "scatter3d": [
           {
            "line": {
             "colorbar": {
              "outlinewidth": 0,
              "ticks": ""
             }
            },
            "marker": {
             "colorbar": {
              "outlinewidth": 0,
              "ticks": ""
             }
            },
            "type": "scatter3d"
           }
          ],
          "scattercarpet": [
           {
            "marker": {
             "colorbar": {
              "outlinewidth": 0,
              "ticks": ""
             }
            },
            "type": "scattercarpet"
           }
          ],
          "scattergeo": [
           {
            "marker": {
             "colorbar": {
              "outlinewidth": 0,
              "ticks": ""
             }
            },
            "type": "scattergeo"
           }
          ],
          "scattergl": [
           {
            "marker": {
             "colorbar": {
              "outlinewidth": 0,
              "ticks": ""
             }
            },
            "type": "scattergl"
           }
          ],
          "scattermapbox": [
           {
            "marker": {
             "colorbar": {
              "outlinewidth": 0,
              "ticks": ""
             }
            },
            "type": "scattermapbox"
           }
          ],
          "scatterpolar": [
           {
            "marker": {
             "colorbar": {
              "outlinewidth": 0,
              "ticks": ""
             }
            },
            "type": "scatterpolar"
           }
          ],
          "scatterpolargl": [
           {
            "marker": {
             "colorbar": {
              "outlinewidth": 0,
              "ticks": ""
             }
            },
            "type": "scatterpolargl"
           }
          ],
          "scatterternary": [
           {
            "marker": {
             "colorbar": {
              "outlinewidth": 0,
              "ticks": ""
             }
            },
            "type": "scatterternary"
           }
          ],
          "surface": [
           {
            "colorbar": {
             "outlinewidth": 0,
             "ticks": ""
            },
            "colorscale": [
             [
              0,
              "#0d0887"
             ],
             [
              0.1111111111111111,
              "#46039f"
             ],
             [
              0.2222222222222222,
              "#7201a8"
             ],
             [
              0.3333333333333333,
              "#9c179e"
             ],
             [
              0.4444444444444444,
              "#bd3786"
             ],
             [
              0.5555555555555556,
              "#d8576b"
             ],
             [
              0.6666666666666666,
              "#ed7953"
             ],
             [
              0.7777777777777778,
              "#fb9f3a"
             ],
             [
              0.8888888888888888,
              "#fdca26"
             ],
             [
              1,
              "#f0f921"
             ]
            ],
            "type": "surface"
           }
          ],
          "table": [
           {
            "cells": {
             "fill": {
              "color": "#EBF0F8"
             },
             "line": {
              "color": "white"
             }
            },
            "header": {
             "fill": {
              "color": "#C8D4E3"
             },
             "line": {
              "color": "white"
             }
            },
            "type": "table"
           }
          ]
         },
         "layout": {
          "annotationdefaults": {
           "arrowcolor": "#2a3f5f",
           "arrowhead": 0,
           "arrowwidth": 1
          },
          "autotypenumbers": "strict",
          "coloraxis": {
           "colorbar": {
            "outlinewidth": 0,
            "ticks": ""
           }
          },
          "colorscale": {
           "diverging": [
            [
             0,
             "#8e0152"
            ],
            [
             0.1,
             "#c51b7d"
            ],
            [
             0.2,
             "#de77ae"
            ],
            [
             0.3,
             "#f1b6da"
            ],
            [
             0.4,
             "#fde0ef"
            ],
            [
             0.5,
             "#f7f7f7"
            ],
            [
             0.6,
             "#e6f5d0"
            ],
            [
             0.7,
             "#b8e186"
            ],
            [
             0.8,
             "#7fbc41"
            ],
            [
             0.9,
             "#4d9221"
            ],
            [
             1,
             "#276419"
            ]
           ],
           "sequential": [
            [
             0,
             "#0d0887"
            ],
            [
             0.1111111111111111,
             "#46039f"
            ],
            [
             0.2222222222222222,
             "#7201a8"
            ],
            [
             0.3333333333333333,
             "#9c179e"
            ],
            [
             0.4444444444444444,
             "#bd3786"
            ],
            [
             0.5555555555555556,
             "#d8576b"
            ],
            [
             0.6666666666666666,
             "#ed7953"
            ],
            [
             0.7777777777777778,
             "#fb9f3a"
            ],
            [
             0.8888888888888888,
             "#fdca26"
            ],
            [
             1,
             "#f0f921"
            ]
           ],
           "sequentialminus": [
            [
             0,
             "#0d0887"
            ],
            [
             0.1111111111111111,
             "#46039f"
            ],
            [
             0.2222222222222222,
             "#7201a8"
            ],
            [
             0.3333333333333333,
             "#9c179e"
            ],
            [
             0.4444444444444444,
             "#bd3786"
            ],
            [
             0.5555555555555556,
             "#d8576b"
            ],
            [
             0.6666666666666666,
             "#ed7953"
            ],
            [
             0.7777777777777778,
             "#fb9f3a"
            ],
            [
             0.8888888888888888,
             "#fdca26"
            ],
            [
             1,
             "#f0f921"
            ]
           ]
          },
          "colorway": [
           "#636efa",
           "#EF553B",
           "#00cc96",
           "#ab63fa",
           "#FFA15A",
           "#19d3f3",
           "#FF6692",
           "#B6E880",
           "#FF97FF",
           "#FECB52"
          ],
          "font": {
           "color": "#2a3f5f"
          },
          "geo": {
           "bgcolor": "white",
           "lakecolor": "white",
           "landcolor": "#E5ECF6",
           "showlakes": true,
           "showland": true,
           "subunitcolor": "white"
          },
          "hoverlabel": {
           "align": "left"
          },
          "hovermode": "closest",
          "mapbox": {
           "style": "light"
          },
          "paper_bgcolor": "white",
          "plot_bgcolor": "#E5ECF6",
          "polar": {
           "angularaxis": {
            "gridcolor": "white",
            "linecolor": "white",
            "ticks": ""
           },
           "bgcolor": "#E5ECF6",
           "radialaxis": {
            "gridcolor": "white",
            "linecolor": "white",
            "ticks": ""
           }
          },
          "scene": {
           "xaxis": {
            "backgroundcolor": "#E5ECF6",
            "gridcolor": "white",
            "gridwidth": 2,
            "linecolor": "white",
            "showbackground": true,
            "ticks": "",
            "zerolinecolor": "white"
           },
           "yaxis": {
            "backgroundcolor": "#E5ECF6",
            "gridcolor": "white",
            "gridwidth": 2,
            "linecolor": "white",
            "showbackground": true,
            "ticks": "",
            "zerolinecolor": "white"
           },
           "zaxis": {
            "backgroundcolor": "#E5ECF6",
            "gridcolor": "white",
            "gridwidth": 2,
            "linecolor": "white",
            "showbackground": true,
            "ticks": "",
            "zerolinecolor": "white"
           }
          },
          "shapedefaults": {
           "line": {
            "color": "#2a3f5f"
           }
          },
          "ternary": {
           "aaxis": {
            "gridcolor": "white",
            "linecolor": "white",
            "ticks": ""
           },
           "baxis": {
            "gridcolor": "white",
            "linecolor": "white",
            "ticks": ""
           },
           "bgcolor": "#E5ECF6",
           "caxis": {
            "gridcolor": "white",
            "linecolor": "white",
            "ticks": ""
           }
          },
          "title": {
           "x": 0.05
          },
          "xaxis": {
           "automargin": true,
           "gridcolor": "white",
           "linecolor": "white",
           "ticks": "",
           "title": {
            "standoff": 15
           },
           "zerolinecolor": "white",
           "zerolinewidth": 2
          },
          "yaxis": {
           "automargin": true,
           "gridcolor": "white",
           "linecolor": "white",
           "ticks": "",
           "title": {
            "standoff": 15
           },
           "zerolinecolor": "white",
           "zerolinewidth": 2
          }
         }
        },
        "xaxis": {
         "anchor": "y",
         "domain": [
          0,
          1
         ],
         "title": {
          "text": "bill_length_mm"
         }
        },
        "yaxis": {
         "anchor": "x",
         "domain": [
          0,
          1
         ],
         "title": {
          "text": "bill_depth_mm"
         }
        }
       }
      },
      "text/html": [
       "<div>                        <script type=\"text/javascript\">window.PlotlyConfig = {MathJaxConfig: 'local'};</script>\n",
       "        <script charset=\"utf-8\" src=\"https://cdn.plot.ly/plotly-2.27.0.min.js\"></script>                <div id=\"ab4ab4d2-c5dc-4f5a-ba9e-1b1cf4cb88f0\" class=\"plotly-graph-div\" style=\"height:100%; width:100%;\"></div>            <script type=\"text/javascript\">                                    window.PLOTLYENV=window.PLOTLYENV || {};                                    if (document.getElementById(\"ab4ab4d2-c5dc-4f5a-ba9e-1b1cf4cb88f0\")) {                    Plotly.newPlot(                        \"ab4ab4d2-c5dc-4f5a-ba9e-1b1cf4cb88f0\",                        [{\"hovertemplate\":\"species=Adelie\\u003cbr\\u003esex=MALE\\u003cbr\\u003ebill_length_mm=%{x}\\u003cbr\\u003ebill_depth_mm=%{y}\\u003cextra\\u003e\\u003c\\u002fextra\\u003e\",\"legendgroup\":\"Adelie, MALE\",\"marker\":{\"color\":\"#636efa\",\"symbol\":\"circle\"},\"mode\":\"markers\",\"name\":\"Adelie, MALE\",\"orientation\":\"v\",\"showlegend\":true,\"x\":[39.1,39.3,39.2,38.6,34.6,42.5,46.0,37.7,38.2,38.8,40.6,40.5,37.2,40.9,39.2,38.8,39.8,40.8,44.1,39.6,41.1,42.3,40.1,42.0,41.4,40.6,37.6,41.3,41.1,41.6,41.1,41.8,39.7,45.8,42.8,37.2,42.1,42.9,35.1,41.3,36.3,38.3,41.1,39.6,40.8,40.3,43.2,41.0,37.8,39.7,38.2,43.2,45.6,42.2,42.7,37.3,41.1,37.7,41.4,40.6,41.5,44.1,43.1,37.5,41.1,40.2,39.7,40.6,40.7,39.0,39.2,37.8,41.5],\"xaxis\":\"x\",\"y\":[18.7,20.6,19.6,21.2,21.1,20.7,21.5,18.7,18.1,17.2,18.6,18.9,18.1,18.9,21.1,20.0,19.1,18.4,19.7,18.8,19.0,21.2,18.9,19.5,18.6,18.8,19.1,21.1,18.2,18.0,19.1,19.4,18.4,18.9,18.5,19.4,19.1,17.6,19.4,20.3,19.5,19.2,18.1,18.1,18.9,18.5,18.5,20.0,20.0,18.9,20.0,19.0,20.3,19.5,18.3,20.5,18.6,19.8,18.5,19.0,18.3,18.0,19.2,18.5,17.5,20.1,17.9,17.2,17.0,18.7,18.6,18.1,18.5],\"yaxis\":\"y\",\"type\":\"scatter\"},{\"hovertemplate\":\"species=Adelie\\u003cbr\\u003esex=FEMALE\\u003cbr\\u003ebill_length_mm=%{x}\\u003cbr\\u003ebill_depth_mm=%{y}\\u003cextra\\u003e\\u003c\\u002fextra\\u003e\",\"legendgroup\":\"Adelie, FEMALE\",\"marker\":{\"color\":\"#636efa\",\"symbol\":\"diamond\"},\"mode\":\"markers\",\"name\":\"Adelie, FEMALE\",\"orientation\":\"v\",\"showlegend\":true,\"x\":[39.5,40.3,36.7,38.9,41.1,36.6,38.7,34.4,37.8,35.9,35.3,40.5,37.9,39.5,39.5,36.4,42.2,37.6,36.5,36.0,37.0,36.0,39.6,35.0,34.5,39.0,36.5,35.7,37.6,36.4,35.5,35.9,33.5,39.6,35.5,40.9,36.2,34.6,36.7,37.3,36.9,38.9,35.7,34.0,36.2,38.1,33.1,35.0,37.7,37.9,38.6,38.1,38.1,39.7,39.6,38.6,35.7,36.2,40.2,35.2,38.8,39.0,38.5,36.8,38.1,35.6,37.0,40.2,32.1,37.3,36.6,36.0,36.0],\"xaxis\":\"x\",\"y\":[17.4,18.0,19.3,17.8,17.6,17.8,19.0,18.4,18.3,19.2,18.9,17.9,18.6,16.7,17.8,17.0,18.5,19.3,18.0,18.5,16.9,17.9,17.7,17.9,18.1,17.5,16.6,16.9,17.0,17.1,16.2,16.6,19.0,17.2,17.5,16.8,16.1,17.2,18.8,17.8,18.6,18.8,18.0,17.1,17.3,18.6,16.1,17.9,16.0,18.6,17.2,17.0,16.5,17.7,20.7,17.0,17.0,17.2,17.0,15.9,17.6,17.1,17.9,18.5,17.6,17.5,16.5,17.1,15.5,16.8,18.4,17.8,17.1],\"yaxis\":\"y\",\"type\":\"scatter\"},{\"hovertemplate\":\"species=Chinstrap\\u003cbr\\u003esex=MALE\\u003cbr\\u003ebill_length_mm=%{x}\\u003cbr\\u003ebill_depth_mm=%{y}\\u003cextra\\u003e\\u003c\\u002fextra\\u003e\",\"legendgroup\":\"Chinstrap, MALE\",\"marker\":{\"color\":\"#EF553B\",\"symbol\":\"circle\"},\"mode\":\"markers\",\"name\":\"Chinstrap, MALE\",\"orientation\":\"v\",\"showlegend\":true,\"x\":[50.0,51.3,52.7,51.3,51.3,51.7,52.0,50.5,50.3,49.2,48.5,50.6,52.0,49.5,52.8,54.2,51.0,49.7,52.0,53.5,49.0,50.9,50.8,49.0,51.5,51.4,50.7,52.2,49.3,50.2,51.9,55.8,49.6,50.8],\"xaxis\":\"x\",\"y\":[19.5,19.2,19.8,18.2,19.9,20.3,18.1,19.6,20.0,18.2,17.5,19.4,19.0,19.0,20.0,20.8,18.8,18.6,20.7,19.9,19.5,19.1,18.5,19.6,18.7,19.0,19.7,18.8,19.9,18.8,19.5,19.8,18.2,19.0],\"yaxis\":\"y\",\"type\":\"scatter\"},{\"hovertemplate\":\"species=Chinstrap\\u003cbr\\u003esex=FEMALE\\u003cbr\\u003ebill_length_mm=%{x}\\u003cbr\\u003ebill_depth_mm=%{y}\\u003cextra\\u003e\\u003c\\u002fextra\\u003e\",\"legendgroup\":\"Chinstrap, FEMALE\",\"marker\":{\"color\":\"#EF553B\",\"symbol\":\"diamond\"},\"mode\":\"markers\",\"name\":\"Chinstrap, FEMALE\",\"orientation\":\"v\",\"showlegend\":true,\"x\":[46.5,45.4,45.2,46.1,46.0,46.6,47.0,45.9,58.0,46.4,42.4,43.2,46.7,50.5,46.4,40.9,42.5,47.5,47.6,46.9,46.2,45.5,50.9,50.1,49.8,48.1,45.7,42.5,45.2,45.6,46.8,45.7,43.5,50.2],\"xaxis\":\"x\",\"y\":[17.9,18.7,17.8,18.2,18.9,17.8,17.3,17.1,17.8,18.6,17.3,16.6,17.9,18.4,17.8,16.6,16.7,16.8,18.3,16.6,17.5,17.0,17.9,17.9,17.3,16.4,17.3,17.3,16.6,19.4,16.5,17.0,18.1,18.7],\"yaxis\":\"y\",\"type\":\"scatter\"},{\"hovertemplate\":\"species=Gentoo\\u003cbr\\u003esex=MALE\\u003cbr\\u003ebill_length_mm=%{x}\\u003cbr\\u003ebill_depth_mm=%{y}\\u003cextra\\u003e\\u003c\\u002fextra\\u003e\",\"legendgroup\":\"Gentoo, MALE\",\"marker\":{\"color\":\"#00cc96\",\"symbol\":\"circle\"},\"mode\":\"markers\",\"name\":\"Gentoo, MALE\",\"orientation\":\"v\",\"showlegend\":true,\"x\":[50.0,50.0,47.6,46.7,46.8,49.0,48.4,49.3,49.2,48.7,50.2,46.3,46.1,47.8,50.0,47.3,59.6,48.4,44.4,48.7,49.6,49.6,50.5,50.5,45.2,48.5,50.1,45.0,45.5,50.4,46.2,54.3,49.8,49.5,50.7,46.4,48.2,48.6,51.1,45.2,52.5,50.0,50.8,51.3,52.1,52.2,49.5,50.8,49.4,51.1,55.9,49.1,46.8,53.4,48.1,49.8,51.5,55.1,48.8,50.4,49.9],\"xaxis\":\"x\",\"y\":[16.3,15.2,14.5,15.3,15.4,16.1,14.6,15.7,15.2,15.1,14.3,15.8,15.1,15.0,15.3,15.3,17.0,16.3,17.3,15.7,16.0,15.0,15.9,15.9,15.8,14.1,15.0,15.4,15.0,15.3,14.9,15.7,16.8,16.2,15.0,15.6,15.6,16.0,16.3,16.4,15.6,15.9,17.3,14.2,17.0,17.1,16.1,15.7,15.8,16.5,17.0,15.0,16.1,15.8,15.1,15.9,16.3,16.0,16.2,15.7,16.1],\"yaxis\":\"y\",\"type\":\"scatter\"},{\"hovertemplate\":\"species=Gentoo\\u003cbr\\u003esex=FEMALE\\u003cbr\\u003ebill_length_mm=%{x}\\u003cbr\\u003ebill_depth_mm=%{y}\\u003cextra\\u003e\\u003c\\u002fextra\\u003e\",\"legendgroup\":\"Gentoo, FEMALE\",\"marker\":{\"color\":\"#00cc96\",\"symbol\":\"diamond\"},\"mode\":\"markers\",\"name\":\"Gentoo, FEMALE\",\"orientation\":\"v\",\"showlegend\":true,\"x\":[46.1,48.7,46.5,45.4,43.3,40.9,45.5,45.8,42.0,46.2,45.1,46.5,42.9,48.2,42.8,45.1,49.1,42.6,44.0,42.7,45.3,43.6,45.5,44.9,46.6,45.1,46.5,43.8,43.2,45.3,45.7,45.8,43.5,47.7,46.5,46.4,47.5,45.2,49.1,47.4,44.9,43.4,47.5,47.5,45.5,44.5,46.9,48.4,48.5,47.2,41.7,43.3,50.5,43.5,46.2,47.2,46.8,45.2],\"xaxis\":\"x\",\"y\":[13.2,14.1,13.5,14.6,13.4,13.7,13.7,14.6,13.5,14.5,14.5,14.5,13.1,14.3,14.2,14.5,14.8,13.7,13.6,13.7,13.7,13.9,13.9,13.3,14.2,14.4,14.4,13.9,14.5,13.8,13.9,14.2,14.2,15.0,14.8,15.0,14.2,13.8,14.5,14.6,13.8,14.4,14.0,15.0,14.5,14.7,14.6,14.4,15.0,15.5,14.7,14.0,15.2,15.2,14.1,13.7,14.3,14.8],\"yaxis\":\"y\",\"type\":\"scatter\"}],                        {\"template\":{\"data\":{\"histogram2dcontour\":[{\"type\":\"histogram2dcontour\",\"colorbar\":{\"outlinewidth\":0,\"ticks\":\"\"},\"colorscale\":[[0.0,\"#0d0887\"],[0.1111111111111111,\"#46039f\"],[0.2222222222222222,\"#7201a8\"],[0.3333333333333333,\"#9c179e\"],[0.4444444444444444,\"#bd3786\"],[0.5555555555555556,\"#d8576b\"],[0.6666666666666666,\"#ed7953\"],[0.7777777777777778,\"#fb9f3a\"],[0.8888888888888888,\"#fdca26\"],[1.0,\"#f0f921\"]]}],\"choropleth\":[{\"type\":\"choropleth\",\"colorbar\":{\"outlinewidth\":0,\"ticks\":\"\"}}],\"histogram2d\":[{\"type\":\"histogram2d\",\"colorbar\":{\"outlinewidth\":0,\"ticks\":\"\"},\"colorscale\":[[0.0,\"#0d0887\"],[0.1111111111111111,\"#46039f\"],[0.2222222222222222,\"#7201a8\"],[0.3333333333333333,\"#9c179e\"],[0.4444444444444444,\"#bd3786\"],[0.5555555555555556,\"#d8576b\"],[0.6666666666666666,\"#ed7953\"],[0.7777777777777778,\"#fb9f3a\"],[0.8888888888888888,\"#fdca26\"],[1.0,\"#f0f921\"]]}],\"heatmap\":[{\"type\":\"heatmap\",\"colorbar\":{\"outlinewidth\":0,\"ticks\":\"\"},\"colorscale\":[[0.0,\"#0d0887\"],[0.1111111111111111,\"#46039f\"],[0.2222222222222222,\"#7201a8\"],[0.3333333333333333,\"#9c179e\"],[0.4444444444444444,\"#bd3786\"],[0.5555555555555556,\"#d8576b\"],[0.6666666666666666,\"#ed7953\"],[0.7777777777777778,\"#fb9f3a\"],[0.8888888888888888,\"#fdca26\"],[1.0,\"#f0f921\"]]}],\"heatmapgl\":[{\"type\":\"heatmapgl\",\"colorbar\":{\"outlinewidth\":0,\"ticks\":\"\"},\"colorscale\":[[0.0,\"#0d0887\"],[0.1111111111111111,\"#46039f\"],[0.2222222222222222,\"#7201a8\"],[0.3333333333333333,\"#9c179e\"],[0.4444444444444444,\"#bd3786\"],[0.5555555555555556,\"#d8576b\"],[0.6666666666666666,\"#ed7953\"],[0.7777777777777778,\"#fb9f3a\"],[0.8888888888888888,\"#fdca26\"],[1.0,\"#f0f921\"]]}],\"contourcarpet\":[{\"type\":\"contourcarpet\",\"colorbar\":{\"outlinewidth\":0,\"ticks\":\"\"}}],\"contour\":[{\"type\":\"contour\",\"colorbar\":{\"outlinewidth\":0,\"ticks\":\"\"},\"colorscale\":[[0.0,\"#0d0887\"],[0.1111111111111111,\"#46039f\"],[0.2222222222222222,\"#7201a8\"],[0.3333333333333333,\"#9c179e\"],[0.4444444444444444,\"#bd3786\"],[0.5555555555555556,\"#d8576b\"],[0.6666666666666666,\"#ed7953\"],[0.7777777777777778,\"#fb9f3a\"],[0.8888888888888888,\"#fdca26\"],[1.0,\"#f0f921\"]]}],\"surface\":[{\"type\":\"surface\",\"colorbar\":{\"outlinewidth\":0,\"ticks\":\"\"},\"colorscale\":[[0.0,\"#0d0887\"],[0.1111111111111111,\"#46039f\"],[0.2222222222222222,\"#7201a8\"],[0.3333333333333333,\"#9c179e\"],[0.4444444444444444,\"#bd3786\"],[0.5555555555555556,\"#d8576b\"],[0.6666666666666666,\"#ed7953\"],[0.7777777777777778,\"#fb9f3a\"],[0.8888888888888888,\"#fdca26\"],[1.0,\"#f0f921\"]]}],\"mesh3d\":[{\"type\":\"mesh3d\",\"colorbar\":{\"outlinewidth\":0,\"ticks\":\"\"}}],\"scatter\":[{\"fillpattern\":{\"fillmode\":\"overlay\",\"size\":10,\"solidity\":0.2},\"type\":\"scatter\"}],\"parcoords\":[{\"type\":\"parcoords\",\"line\":{\"colorbar\":{\"outlinewidth\":0,\"ticks\":\"\"}}}],\"scatterpolargl\":[{\"type\":\"scatterpolargl\",\"marker\":{\"colorbar\":{\"outlinewidth\":0,\"ticks\":\"\"}}}],\"bar\":[{\"error_x\":{\"color\":\"#2a3f5f\"},\"error_y\":{\"color\":\"#2a3f5f\"},\"marker\":{\"line\":{\"color\":\"#E5ECF6\",\"width\":0.5},\"pattern\":{\"fillmode\":\"overlay\",\"size\":10,\"solidity\":0.2}},\"type\":\"bar\"}],\"scattergeo\":[{\"type\":\"scattergeo\",\"marker\":{\"colorbar\":{\"outlinewidth\":0,\"ticks\":\"\"}}}],\"scatterpolar\":[{\"type\":\"scatterpolar\",\"marker\":{\"colorbar\":{\"outlinewidth\":0,\"ticks\":\"\"}}}],\"histogram\":[{\"marker\":{\"pattern\":{\"fillmode\":\"overlay\",\"size\":10,\"solidity\":0.2}},\"type\":\"histogram\"}],\"scattergl\":[{\"type\":\"scattergl\",\"marker\":{\"colorbar\":{\"outlinewidth\":0,\"ticks\":\"\"}}}],\"scatter3d\":[{\"type\":\"scatter3d\",\"line\":{\"colorbar\":{\"outlinewidth\":0,\"ticks\":\"\"}},\"marker\":{\"colorbar\":{\"outlinewidth\":0,\"ticks\":\"\"}}}],\"scattermapbox\":[{\"type\":\"scattermapbox\",\"marker\":{\"colorbar\":{\"outlinewidth\":0,\"ticks\":\"\"}}}],\"scatterternary\":[{\"type\":\"scatterternary\",\"marker\":{\"colorbar\":{\"outlinewidth\":0,\"ticks\":\"\"}}}],\"scattercarpet\":[{\"type\":\"scattercarpet\",\"marker\":{\"colorbar\":{\"outlinewidth\":0,\"ticks\":\"\"}}}],\"carpet\":[{\"aaxis\":{\"endlinecolor\":\"#2a3f5f\",\"gridcolor\":\"white\",\"linecolor\":\"white\",\"minorgridcolor\":\"white\",\"startlinecolor\":\"#2a3f5f\"},\"baxis\":{\"endlinecolor\":\"#2a3f5f\",\"gridcolor\":\"white\",\"linecolor\":\"white\",\"minorgridcolor\":\"white\",\"startlinecolor\":\"#2a3f5f\"},\"type\":\"carpet\"}],\"table\":[{\"cells\":{\"fill\":{\"color\":\"#EBF0F8\"},\"line\":{\"color\":\"white\"}},\"header\":{\"fill\":{\"color\":\"#C8D4E3\"},\"line\":{\"color\":\"white\"}},\"type\":\"table\"}],\"barpolar\":[{\"marker\":{\"line\":{\"color\":\"#E5ECF6\",\"width\":0.5},\"pattern\":{\"fillmode\":\"overlay\",\"size\":10,\"solidity\":0.2}},\"type\":\"barpolar\"}],\"pie\":[{\"automargin\":true,\"type\":\"pie\"}]},\"layout\":{\"autotypenumbers\":\"strict\",\"colorway\":[\"#636efa\",\"#EF553B\",\"#00cc96\",\"#ab63fa\",\"#FFA15A\",\"#19d3f3\",\"#FF6692\",\"#B6E880\",\"#FF97FF\",\"#FECB52\"],\"font\":{\"color\":\"#2a3f5f\"},\"hovermode\":\"closest\",\"hoverlabel\":{\"align\":\"left\"},\"paper_bgcolor\":\"white\",\"plot_bgcolor\":\"#E5ECF6\",\"polar\":{\"bgcolor\":\"#E5ECF6\",\"angularaxis\":{\"gridcolor\":\"white\",\"linecolor\":\"white\",\"ticks\":\"\"},\"radialaxis\":{\"gridcolor\":\"white\",\"linecolor\":\"white\",\"ticks\":\"\"}},\"ternary\":{\"bgcolor\":\"#E5ECF6\",\"aaxis\":{\"gridcolor\":\"white\",\"linecolor\":\"white\",\"ticks\":\"\"},\"baxis\":{\"gridcolor\":\"white\",\"linecolor\":\"white\",\"ticks\":\"\"},\"caxis\":{\"gridcolor\":\"white\",\"linecolor\":\"white\",\"ticks\":\"\"}},\"coloraxis\":{\"colorbar\":{\"outlinewidth\":0,\"ticks\":\"\"}},\"colorscale\":{\"sequential\":[[0.0,\"#0d0887\"],[0.1111111111111111,\"#46039f\"],[0.2222222222222222,\"#7201a8\"],[0.3333333333333333,\"#9c179e\"],[0.4444444444444444,\"#bd3786\"],[0.5555555555555556,\"#d8576b\"],[0.6666666666666666,\"#ed7953\"],[0.7777777777777778,\"#fb9f3a\"],[0.8888888888888888,\"#fdca26\"],[1.0,\"#f0f921\"]],\"sequentialminus\":[[0.0,\"#0d0887\"],[0.1111111111111111,\"#46039f\"],[0.2222222222222222,\"#7201a8\"],[0.3333333333333333,\"#9c179e\"],[0.4444444444444444,\"#bd3786\"],[0.5555555555555556,\"#d8576b\"],[0.6666666666666666,\"#ed7953\"],[0.7777777777777778,\"#fb9f3a\"],[0.8888888888888888,\"#fdca26\"],[1.0,\"#f0f921\"]],\"diverging\":[[0,\"#8e0152\"],[0.1,\"#c51b7d\"],[0.2,\"#de77ae\"],[0.3,\"#f1b6da\"],[0.4,\"#fde0ef\"],[0.5,\"#f7f7f7\"],[0.6,\"#e6f5d0\"],[0.7,\"#b8e186\"],[0.8,\"#7fbc41\"],[0.9,\"#4d9221\"],[1,\"#276419\"]]},\"xaxis\":{\"gridcolor\":\"white\",\"linecolor\":\"white\",\"ticks\":\"\",\"title\":{\"standoff\":15},\"zerolinecolor\":\"white\",\"automargin\":true,\"zerolinewidth\":2},\"yaxis\":{\"gridcolor\":\"white\",\"linecolor\":\"white\",\"ticks\":\"\",\"title\":{\"standoff\":15},\"zerolinecolor\":\"white\",\"automargin\":true,\"zerolinewidth\":2},\"scene\":{\"xaxis\":{\"backgroundcolor\":\"#E5ECF6\",\"gridcolor\":\"white\",\"linecolor\":\"white\",\"showbackground\":true,\"ticks\":\"\",\"zerolinecolor\":\"white\",\"gridwidth\":2},\"yaxis\":{\"backgroundcolor\":\"#E5ECF6\",\"gridcolor\":\"white\",\"linecolor\":\"white\",\"showbackground\":true,\"ticks\":\"\",\"zerolinecolor\":\"white\",\"gridwidth\":2},\"zaxis\":{\"backgroundcolor\":\"#E5ECF6\",\"gridcolor\":\"white\",\"linecolor\":\"white\",\"showbackground\":true,\"ticks\":\"\",\"zerolinecolor\":\"white\",\"gridwidth\":2}},\"shapedefaults\":{\"line\":{\"color\":\"#2a3f5f\"}},\"annotationdefaults\":{\"arrowcolor\":\"#2a3f5f\",\"arrowhead\":0,\"arrowwidth\":1},\"geo\":{\"bgcolor\":\"white\",\"landcolor\":\"#E5ECF6\",\"subunitcolor\":\"white\",\"showland\":true,\"showlakes\":true,\"lakecolor\":\"white\"},\"title\":{\"x\":0.05},\"mapbox\":{\"style\":\"light\"}}},\"xaxis\":{\"anchor\":\"y\",\"domain\":[0.0,1.0],\"title\":{\"text\":\"bill_length_mm\"}},\"yaxis\":{\"anchor\":\"x\",\"domain\":[0.0,1.0],\"title\":{\"text\":\"bill_depth_mm\"}},\"legend\":{\"title\":{\"text\":\"species, sex\"},\"tracegroupgap\":0},\"margin\":{\"t\":60}},                        {\"responsive\": true}                    )                };                            </script>        </div>"
      ],
      "text/plain": [
       "Figure({\n",
       "    'data': [{'hovertemplate': ('species=Adelie<br>sex=MALE<br>' ... 'l_depth_mm=%{y}<extra></extra>'),\n",
       "              'legendgroup': 'Adelie, MALE',\n",
       "              'marker': {'color': '#636efa', 'symbol': 'circle'},\n",
       "              'mode': 'markers',\n",
       "              'name': 'Adelie, MALE',\n",
       "              'orientation': 'v',\n",
       "              'showlegend': True,\n",
       "              'type': 'scatter',\n",
       "              'x': array([39.1, 39.3, 39.2, 38.6, 34.6, 42.5, 46. , 37.7, 38.2, 38.8, 40.6, 40.5,\n",
       "                          37.2, 40.9, 39.2, 38.8, 39.8, 40.8, 44.1, 39.6, 41.1, 42.3, 40.1, 42. ,\n",
       "                          41.4, 40.6, 37.6, 41.3, 41.1, 41.6, 41.1, 41.8, 39.7, 45.8, 42.8, 37.2,\n",
       "                          42.1, 42.9, 35.1, 41.3, 36.3, 38.3, 41.1, 39.6, 40.8, 40.3, 43.2, 41. ,\n",
       "                          37.8, 39.7, 38.2, 43.2, 45.6, 42.2, 42.7, 37.3, 41.1, 37.7, 41.4, 40.6,\n",
       "                          41.5, 44.1, 43.1, 37.5, 41.1, 40.2, 39.7, 40.6, 40.7, 39. , 39.2, 37.8,\n",
       "                          41.5]),\n",
       "              'xaxis': 'x',\n",
       "              'y': array([18.7, 20.6, 19.6, 21.2, 21.1, 20.7, 21.5, 18.7, 18.1, 17.2, 18.6, 18.9,\n",
       "                          18.1, 18.9, 21.1, 20. , 19.1, 18.4, 19.7, 18.8, 19. , 21.2, 18.9, 19.5,\n",
       "                          18.6, 18.8, 19.1, 21.1, 18.2, 18. , 19.1, 19.4, 18.4, 18.9, 18.5, 19.4,\n",
       "                          19.1, 17.6, 19.4, 20.3, 19.5, 19.2, 18.1, 18.1, 18.9, 18.5, 18.5, 20. ,\n",
       "                          20. , 18.9, 20. , 19. , 20.3, 19.5, 18.3, 20.5, 18.6, 19.8, 18.5, 19. ,\n",
       "                          18.3, 18. , 19.2, 18.5, 17.5, 20.1, 17.9, 17.2, 17. , 18.7, 18.6, 18.1,\n",
       "                          18.5]),\n",
       "              'yaxis': 'y'},\n",
       "             {'hovertemplate': ('species=Adelie<br>sex=FEMALE<b' ... 'l_depth_mm=%{y}<extra></extra>'),\n",
       "              'legendgroup': 'Adelie, FEMALE',\n",
       "              'marker': {'color': '#636efa', 'symbol': 'diamond'},\n",
       "              'mode': 'markers',\n",
       "              'name': 'Adelie, FEMALE',\n",
       "              'orientation': 'v',\n",
       "              'showlegend': True,\n",
       "              'type': 'scatter',\n",
       "              'x': array([39.5, 40.3, 36.7, 38.9, 41.1, 36.6, 38.7, 34.4, 37.8, 35.9, 35.3, 40.5,\n",
       "                          37.9, 39.5, 39.5, 36.4, 42.2, 37.6, 36.5, 36. , 37. , 36. , 39.6, 35. ,\n",
       "                          34.5, 39. , 36.5, 35.7, 37.6, 36.4, 35.5, 35.9, 33.5, 39.6, 35.5, 40.9,\n",
       "                          36.2, 34.6, 36.7, 37.3, 36.9, 38.9, 35.7, 34. , 36.2, 38.1, 33.1, 35. ,\n",
       "                          37.7, 37.9, 38.6, 38.1, 38.1, 39.7, 39.6, 38.6, 35.7, 36.2, 40.2, 35.2,\n",
       "                          38.8, 39. , 38.5, 36.8, 38.1, 35.6, 37. , 40.2, 32.1, 37.3, 36.6, 36. ,\n",
       "                          36. ]),\n",
       "              'xaxis': 'x',\n",
       "              'y': array([17.4, 18. , 19.3, 17.8, 17.6, 17.8, 19. , 18.4, 18.3, 19.2, 18.9, 17.9,\n",
       "                          18.6, 16.7, 17.8, 17. , 18.5, 19.3, 18. , 18.5, 16.9, 17.9, 17.7, 17.9,\n",
       "                          18.1, 17.5, 16.6, 16.9, 17. , 17.1, 16.2, 16.6, 19. , 17.2, 17.5, 16.8,\n",
       "                          16.1, 17.2, 18.8, 17.8, 18.6, 18.8, 18. , 17.1, 17.3, 18.6, 16.1, 17.9,\n",
       "                          16. , 18.6, 17.2, 17. , 16.5, 17.7, 20.7, 17. , 17. , 17.2, 17. , 15.9,\n",
       "                          17.6, 17.1, 17.9, 18.5, 17.6, 17.5, 16.5, 17.1, 15.5, 16.8, 18.4, 17.8,\n",
       "                          17.1]),\n",
       "              'yaxis': 'y'},\n",
       "             {'hovertemplate': ('species=Chinstrap<br>sex=MALE<' ... 'l_depth_mm=%{y}<extra></extra>'),\n",
       "              'legendgroup': 'Chinstrap, MALE',\n",
       "              'marker': {'color': '#EF553B', 'symbol': 'circle'},\n",
       "              'mode': 'markers',\n",
       "              'name': 'Chinstrap, MALE',\n",
       "              'orientation': 'v',\n",
       "              'showlegend': True,\n",
       "              'type': 'scatter',\n",
       "              'x': array([50. , 51.3, 52.7, 51.3, 51.3, 51.7, 52. , 50.5, 50.3, 49.2, 48.5, 50.6,\n",
       "                          52. , 49.5, 52.8, 54.2, 51. , 49.7, 52. , 53.5, 49. , 50.9, 50.8, 49. ,\n",
       "                          51.5, 51.4, 50.7, 52.2, 49.3, 50.2, 51.9, 55.8, 49.6, 50.8]),\n",
       "              'xaxis': 'x',\n",
       "              'y': array([19.5, 19.2, 19.8, 18.2, 19.9, 20.3, 18.1, 19.6, 20. , 18.2, 17.5, 19.4,\n",
       "                          19. , 19. , 20. , 20.8, 18.8, 18.6, 20.7, 19.9, 19.5, 19.1, 18.5, 19.6,\n",
       "                          18.7, 19. , 19.7, 18.8, 19.9, 18.8, 19.5, 19.8, 18.2, 19. ]),\n",
       "              'yaxis': 'y'},\n",
       "             {'hovertemplate': ('species=Chinstrap<br>sex=FEMAL' ... 'l_depth_mm=%{y}<extra></extra>'),\n",
       "              'legendgroup': 'Chinstrap, FEMALE',\n",
       "              'marker': {'color': '#EF553B', 'symbol': 'diamond'},\n",
       "              'mode': 'markers',\n",
       "              'name': 'Chinstrap, FEMALE',\n",
       "              'orientation': 'v',\n",
       "              'showlegend': True,\n",
       "              'type': 'scatter',\n",
       "              'x': array([46.5, 45.4, 45.2, 46.1, 46. , 46.6, 47. , 45.9, 58. , 46.4, 42.4, 43.2,\n",
       "                          46.7, 50.5, 46.4, 40.9, 42.5, 47.5, 47.6, 46.9, 46.2, 45.5, 50.9, 50.1,\n",
       "                          49.8, 48.1, 45.7, 42.5, 45.2, 45.6, 46.8, 45.7, 43.5, 50.2]),\n",
       "              'xaxis': 'x',\n",
       "              'y': array([17.9, 18.7, 17.8, 18.2, 18.9, 17.8, 17.3, 17.1, 17.8, 18.6, 17.3, 16.6,\n",
       "                          17.9, 18.4, 17.8, 16.6, 16.7, 16.8, 18.3, 16.6, 17.5, 17. , 17.9, 17.9,\n",
       "                          17.3, 16.4, 17.3, 17.3, 16.6, 19.4, 16.5, 17. , 18.1, 18.7]),\n",
       "              'yaxis': 'y'},\n",
       "             {'hovertemplate': ('species=Gentoo<br>sex=MALE<br>' ... 'l_depth_mm=%{y}<extra></extra>'),\n",
       "              'legendgroup': 'Gentoo, MALE',\n",
       "              'marker': {'color': '#00cc96', 'symbol': 'circle'},\n",
       "              'mode': 'markers',\n",
       "              'name': 'Gentoo, MALE',\n",
       "              'orientation': 'v',\n",
       "              'showlegend': True,\n",
       "              'type': 'scatter',\n",
       "              'x': array([50. , 50. , 47.6, 46.7, 46.8, 49. , 48.4, 49.3, 49.2, 48.7, 50.2, 46.3,\n",
       "                          46.1, 47.8, 50. , 47.3, 59.6, 48.4, 44.4, 48.7, 49.6, 49.6, 50.5, 50.5,\n",
       "                          45.2, 48.5, 50.1, 45. , 45.5, 50.4, 46.2, 54.3, 49.8, 49.5, 50.7, 46.4,\n",
       "                          48.2, 48.6, 51.1, 45.2, 52.5, 50. , 50.8, 51.3, 52.1, 52.2, 49.5, 50.8,\n",
       "                          49.4, 51.1, 55.9, 49.1, 46.8, 53.4, 48.1, 49.8, 51.5, 55.1, 48.8, 50.4,\n",
       "                          49.9]),\n",
       "              'xaxis': 'x',\n",
       "              'y': array([16.3, 15.2, 14.5, 15.3, 15.4, 16.1, 14.6, 15.7, 15.2, 15.1, 14.3, 15.8,\n",
       "                          15.1, 15. , 15.3, 15.3, 17. , 16.3, 17.3, 15.7, 16. , 15. , 15.9, 15.9,\n",
       "                          15.8, 14.1, 15. , 15.4, 15. , 15.3, 14.9, 15.7, 16.8, 16.2, 15. , 15.6,\n",
       "                          15.6, 16. , 16.3, 16.4, 15.6, 15.9, 17.3, 14.2, 17. , 17.1, 16.1, 15.7,\n",
       "                          15.8, 16.5, 17. , 15. , 16.1, 15.8, 15.1, 15.9, 16.3, 16. , 16.2, 15.7,\n",
       "                          16.1]),\n",
       "              'yaxis': 'y'},\n",
       "             {'hovertemplate': ('species=Gentoo<br>sex=FEMALE<b' ... 'l_depth_mm=%{y}<extra></extra>'),\n",
       "              'legendgroup': 'Gentoo, FEMALE',\n",
       "              'marker': {'color': '#00cc96', 'symbol': 'diamond'},\n",
       "              'mode': 'markers',\n",
       "              'name': 'Gentoo, FEMALE',\n",
       "              'orientation': 'v',\n",
       "              'showlegend': True,\n",
       "              'type': 'scatter',\n",
       "              'x': array([46.1, 48.7, 46.5, 45.4, 43.3, 40.9, 45.5, 45.8, 42. , 46.2, 45.1, 46.5,\n",
       "                          42.9, 48.2, 42.8, 45.1, 49.1, 42.6, 44. , 42.7, 45.3, 43.6, 45.5, 44.9,\n",
       "                          46.6, 45.1, 46.5, 43.8, 43.2, 45.3, 45.7, 45.8, 43.5, 47.7, 46.5, 46.4,\n",
       "                          47.5, 45.2, 49.1, 47.4, 44.9, 43.4, 47.5, 47.5, 45.5, 44.5, 46.9, 48.4,\n",
       "                          48.5, 47.2, 41.7, 43.3, 50.5, 43.5, 46.2, 47.2, 46.8, 45.2]),\n",
       "              'xaxis': 'x',\n",
       "              'y': array([13.2, 14.1, 13.5, 14.6, 13.4, 13.7, 13.7, 14.6, 13.5, 14.5, 14.5, 14.5,\n",
       "                          13.1, 14.3, 14.2, 14.5, 14.8, 13.7, 13.6, 13.7, 13.7, 13.9, 13.9, 13.3,\n",
       "                          14.2, 14.4, 14.4, 13.9, 14.5, 13.8, 13.9, 14.2, 14.2, 15. , 14.8, 15. ,\n",
       "                          14.2, 13.8, 14.5, 14.6, 13.8, 14.4, 14. , 15. , 14.5, 14.7, 14.6, 14.4,\n",
       "                          15. , 15.5, 14.7, 14. , 15.2, 15.2, 14.1, 13.7, 14.3, 14.8]),\n",
       "              'yaxis': 'y'}],\n",
       "    'layout': {'legend': {'title': {'text': 'species, sex'}, 'tracegroupgap': 0},\n",
       "               'margin': {'t': 60},\n",
       "               'template': '...',\n",
       "               'xaxis': {'anchor': 'y', 'domain': [0.0, 1.0], 'title': {'text': 'bill_length_mm'}},\n",
       "               'yaxis': {'anchor': 'x', 'domain': [0.0, 1.0], 'title': {'text': 'bill_depth_mm'}}}\n",
       "})"
      ]
     },
     "execution_count": 56,
     "metadata": {},
     "output_type": "execute_result"
    }
   ],
   "source": [
    "px.scatter(data,'bill_length_mm','bill_depth_mm','species',symbol='sex',)"
   ]
  },
  {
   "cell_type": "code",
   "execution_count": 57,
   "metadata": {},
   "outputs": [
    {
     "ename": "ValueError",
     "evalue": "Mime type rendering requires nbformat>=4.2.0 but it is not installed",
     "output_type": "error",
     "traceback": [
      "\u001b[1;31m---------------------------------------------------------------------------\u001b[0m",
      "\u001b[1;31mValueError\u001b[0m                                Traceback (most recent call last)",
      "File \u001b[1;32m~\\AppData\\Roaming\\Python\\Python310\\site-packages\\IPython\\core\\formatters.py:922\u001b[0m, in \u001b[0;36mIPythonDisplayFormatter.__call__\u001b[1;34m(self, obj)\u001b[0m\n\u001b[0;32m    920\u001b[0m method \u001b[38;5;241m=\u001b[39m get_real_method(obj, \u001b[38;5;28mself\u001b[39m\u001b[38;5;241m.\u001b[39mprint_method)\n\u001b[0;32m    921\u001b[0m \u001b[38;5;28;01mif\u001b[39;00m method \u001b[38;5;129;01mis\u001b[39;00m \u001b[38;5;129;01mnot\u001b[39;00m \u001b[38;5;28;01mNone\u001b[39;00m:\n\u001b[1;32m--> 922\u001b[0m     \u001b[43mmethod\u001b[49m\u001b[43m(\u001b[49m\u001b[43m)\u001b[49m\n\u001b[0;32m    923\u001b[0m     \u001b[38;5;28;01mreturn\u001b[39;00m \u001b[38;5;28;01mTrue\u001b[39;00m\n",
      "File \u001b[1;32mc:\\Users\\lobsa\\AppData\\Local\\Programs\\Python\\Python310\\lib\\site-packages\\plotly\\basedatatypes.py:832\u001b[0m, in \u001b[0;36mBaseFigure._ipython_display_\u001b[1;34m(self)\u001b[0m\n\u001b[0;32m    829\u001b[0m \u001b[38;5;28;01mimport\u001b[39;00m \u001b[38;5;21;01mplotly\u001b[39;00m\u001b[38;5;21;01m.\u001b[39;00m\u001b[38;5;21;01mio\u001b[39;00m \u001b[38;5;28;01mas\u001b[39;00m \u001b[38;5;21;01mpio\u001b[39;00m\n\u001b[0;32m    831\u001b[0m \u001b[38;5;28;01mif\u001b[39;00m pio\u001b[38;5;241m.\u001b[39mrenderers\u001b[38;5;241m.\u001b[39mrender_on_display \u001b[38;5;129;01mand\u001b[39;00m pio\u001b[38;5;241m.\u001b[39mrenderers\u001b[38;5;241m.\u001b[39mdefault:\n\u001b[1;32m--> 832\u001b[0m     \u001b[43mpio\u001b[49m\u001b[38;5;241;43m.\u001b[39;49m\u001b[43mshow\u001b[49m\u001b[43m(\u001b[49m\u001b[38;5;28;43mself\u001b[39;49m\u001b[43m)\u001b[49m\n\u001b[0;32m    833\u001b[0m \u001b[38;5;28;01melse\u001b[39;00m:\n\u001b[0;32m    834\u001b[0m     \u001b[38;5;28mprint\u001b[39m(\u001b[38;5;28mrepr\u001b[39m(\u001b[38;5;28mself\u001b[39m))\n",
      "File \u001b[1;32mc:\\Users\\lobsa\\AppData\\Local\\Programs\\Python\\Python310\\lib\\site-packages\\plotly\\io\\_renderers.py:394\u001b[0m, in \u001b[0;36mshow\u001b[1;34m(fig, renderer, validate, **kwargs)\u001b[0m\n\u001b[0;32m    389\u001b[0m         \u001b[38;5;28;01mraise\u001b[39;00m \u001b[38;5;167;01mValueError\u001b[39;00m(\n\u001b[0;32m    390\u001b[0m             \u001b[38;5;124m\"\u001b[39m\u001b[38;5;124mMime type rendering requires ipython but it is not installed\u001b[39m\u001b[38;5;124m\"\u001b[39m\n\u001b[0;32m    391\u001b[0m         )\n\u001b[0;32m    393\u001b[0m     \u001b[38;5;28;01mif\u001b[39;00m \u001b[38;5;129;01mnot\u001b[39;00m nbformat \u001b[38;5;129;01mor\u001b[39;00m Version(nbformat\u001b[38;5;241m.\u001b[39m__version__) \u001b[38;5;241m<\u001b[39m Version(\u001b[38;5;124m\"\u001b[39m\u001b[38;5;124m4.2.0\u001b[39m\u001b[38;5;124m\"\u001b[39m):\n\u001b[1;32m--> 394\u001b[0m         \u001b[38;5;28;01mraise\u001b[39;00m \u001b[38;5;167;01mValueError\u001b[39;00m(\n\u001b[0;32m    395\u001b[0m             \u001b[38;5;124m\"\u001b[39m\u001b[38;5;124mMime type rendering requires nbformat>=4.2.0 but it is not installed\u001b[39m\u001b[38;5;124m\"\u001b[39m\n\u001b[0;32m    396\u001b[0m         )\n\u001b[0;32m    398\u001b[0m     ipython_display\u001b[38;5;241m.\u001b[39mdisplay(bundle, raw\u001b[38;5;241m=\u001b[39m\u001b[38;5;28;01mTrue\u001b[39;00m)\n\u001b[0;32m    400\u001b[0m \u001b[38;5;66;03m# external renderers\u001b[39;00m\n",
      "\u001b[1;31mValueError\u001b[0m: Mime type rendering requires nbformat>=4.2.0 but it is not installed"
     ]
    },
    {
     "data": {
      "application/vnd.plotly.v1+json": {
       "config": {
        "plotlyServerURL": "https://plot.ly"
       },
       "data": [
        {
         "hovertemplate": "species=Adelie<br>sex=MALE<br>bill_depth_mm=%{x}<br>flipper_length_mm=%{y}<extra></extra>",
         "legendgroup": "Adelie, MALE",
         "marker": {
          "color": "#636efa",
          "symbol": "circle"
         },
         "mode": "markers",
         "name": "Adelie, MALE",
         "orientation": "v",
         "showlegend": true,
         "type": "scatter",
         "x": [
          18.7,
          20.6,
          19.6,
          21.2,
          21.1,
          20.7,
          21.5,
          18.7,
          18.1,
          17.2,
          18.6,
          18.9,
          18.1,
          18.9,
          21.1,
          20,
          19.1,
          18.4,
          19.7,
          18.8,
          19,
          21.2,
          18.9,
          19.5,
          18.6,
          18.8,
          19.1,
          21.1,
          18.2,
          18,
          19.1,
          19.4,
          18.4,
          18.9,
          18.5,
          19.4,
          19.1,
          17.6,
          19.4,
          20.3,
          19.5,
          19.2,
          18.1,
          18.1,
          18.9,
          18.5,
          18.5,
          20,
          20,
          18.9,
          20,
          19,
          20.3,
          19.5,
          18.3,
          20.5,
          18.6,
          19.8,
          18.5,
          19,
          18.3,
          18,
          19.2,
          18.5,
          17.5,
          20.1,
          17.9,
          17.2,
          17,
          18.7,
          18.6,
          18.1,
          18.5
         ],
         "xaxis": "x",
         "y": [
          181,
          190,
          195,
          191,
          198,
          197,
          194,
          180,
          185,
          180,
          183,
          180,
          178,
          184,
          196,
          190,
          184,
          195,
          196,
          190,
          182,
          191,
          188,
          200,
          191,
          193,
          194,
          195,
          192,
          192,
          188,
          198,
          190,
          197,
          195,
          184,
          195,
          196,
          193,
          194,
          190,
          189,
          205,
          186,
          208,
          196,
          192,
          203,
          190,
          184,
          190,
          197,
          191,
          197,
          196,
          199,
          189,
          198,
          202,
          199,
          195,
          210,
          197,
          199,
          190,
          200,
          193,
          187,
          190,
          185,
          190,
          193,
          201
         ],
         "yaxis": "y"
        },
        {
         "hovertemplate": "species=Adelie<br>sex=FEMALE<br>bill_depth_mm=%{x}<br>flipper_length_mm=%{y}<extra></extra>",
         "legendgroup": "Adelie, FEMALE",
         "marker": {
          "color": "#636efa",
          "symbol": "diamond"
         },
         "mode": "markers",
         "name": "Adelie, FEMALE",
         "orientation": "v",
         "showlegend": true,
         "type": "scatter",
         "x": [
          17.4,
          18,
          19.3,
          17.8,
          17.6,
          17.8,
          19,
          18.4,
          18.3,
          19.2,
          18.9,
          17.9,
          18.6,
          16.7,
          17.8,
          17,
          18.5,
          19.3,
          18,
          18.5,
          16.9,
          17.9,
          17.7,
          17.9,
          18.1,
          17.5,
          16.6,
          16.9,
          17,
          17.1,
          16.2,
          16.6,
          19,
          17.2,
          17.5,
          16.8,
          16.1,
          17.2,
          18.8,
          17.8,
          18.6,
          18.8,
          18,
          17.1,
          17.3,
          18.6,
          16.1,
          17.9,
          16,
          18.6,
          17.2,
          17,
          16.5,
          17.7,
          20.7,
          17,
          17,
          17.2,
          17,
          15.9,
          17.6,
          17.1,
          17.9,
          18.5,
          17.6,
          17.5,
          16.5,
          17.1,
          15.5,
          16.8,
          18.4,
          17.8,
          17.1
         ],
         "xaxis": "x",
         "y": [
          186,
          195,
          193,
          181,
          182,
          185,
          195,
          184,
          174,
          189,
          187,
          187,
          172,
          178,
          188,
          195,
          180,
          181,
          182,
          186,
          185,
          190,
          186,
          190,
          187,
          186,
          181,
          185,
          185,
          184,
          195,
          190,
          190,
          196,
          190,
          191,
          187,
          189,
          187,
          191,
          189,
          190,
          202,
          185,
          187,
          190,
          178,
          192,
          183,
          193,
          199,
          181,
          198,
          193,
          191,
          188,
          189,
          187,
          176,
          186,
          191,
          191,
          190,
          193,
          187,
          191,
          185,
          193,
          188,
          192,
          184,
          195,
          187
         ],
         "yaxis": "y"
        },
        {
         "hovertemplate": "species=Chinstrap<br>sex=MALE<br>bill_depth_mm=%{x}<br>flipper_length_mm=%{y}<extra></extra>",
         "legendgroup": "Chinstrap, MALE",
         "marker": {
          "color": "#EF553B",
          "symbol": "circle"
         },
         "mode": "markers",
         "name": "Chinstrap, MALE",
         "orientation": "v",
         "showlegend": true,
         "type": "scatter",
         "x": [
          19.5,
          19.2,
          19.8,
          18.2,
          19.9,
          20.3,
          18.1,
          19.6,
          20,
          18.2,
          17.5,
          19.4,
          19,
          19,
          20,
          20.8,
          18.8,
          18.6,
          20.7,
          19.9,
          19.5,
          19.1,
          18.5,
          19.6,
          18.7,
          19,
          19.7,
          18.8,
          19.9,
          18.8,
          19.5,
          19.8,
          18.2,
          19
         ],
         "xaxis": "x",
         "y": [
          196,
          193,
          197,
          197,
          198,
          194,
          201,
          201,
          197,
          195,
          191,
          193,
          197,
          200,
          205,
          201,
          203,
          195,
          210,
          205,
          210,
          196,
          201,
          212,
          187,
          201,
          203,
          197,
          203,
          202,
          206,
          207,
          193,
          210
         ],
         "yaxis": "y"
        },
        {
         "hovertemplate": "species=Chinstrap<br>sex=FEMALE<br>bill_depth_mm=%{x}<br>flipper_length_mm=%{y}<extra></extra>",
         "legendgroup": "Chinstrap, FEMALE",
         "marker": {
          "color": "#EF553B",
          "symbol": "diamond"
         },
         "mode": "markers",
         "name": "Chinstrap, FEMALE",
         "orientation": "v",
         "showlegend": true,
         "type": "scatter",
         "x": [
          17.9,
          18.7,
          17.8,
          18.2,
          18.9,
          17.8,
          17.3,
          17.1,
          17.8,
          18.6,
          17.3,
          16.6,
          17.9,
          18.4,
          17.8,
          16.6,
          16.7,
          16.8,
          18.3,
          16.6,
          17.5,
          17,
          17.9,
          17.9,
          17.3,
          16.4,
          17.3,
          17.3,
          16.6,
          19.4,
          16.5,
          17,
          18.1,
          18.7
         ],
         "xaxis": "x",
         "y": [
          192,
          188,
          198,
          178,
          195,
          193,
          185,
          190,
          181,
          190,
          181,
          187,
          195,
          200,
          191,
          187,
          187,
          199,
          195,
          192,
          187,
          196,
          196,
          190,
          198,
          199,
          193,
          187,
          191,
          194,
          189,
          195,
          202,
          198
         ],
         "yaxis": "y"
        },
        {
         "hovertemplate": "species=Gentoo<br>sex=MALE<br>bill_depth_mm=%{x}<br>flipper_length_mm=%{y}<extra></extra>",
         "legendgroup": "Gentoo, MALE",
         "marker": {
          "color": "#00cc96",
          "symbol": "circle"
         },
         "mode": "markers",
         "name": "Gentoo, MALE",
         "orientation": "v",
         "showlegend": true,
         "type": "scatter",
         "x": [
          16.3,
          15.2,
          14.5,
          15.3,
          15.4,
          16.1,
          14.6,
          15.7,
          15.2,
          15.1,
          14.3,
          15.8,
          15.1,
          15,
          15.3,
          15.3,
          17,
          16.3,
          17.3,
          15.7,
          16,
          15,
          15.9,
          15.9,
          15.8,
          14.1,
          15,
          15.4,
          15,
          15.3,
          14.9,
          15.7,
          16.8,
          16.2,
          15,
          15.6,
          15.6,
          16,
          16.3,
          16.4,
          15.6,
          15.9,
          17.3,
          14.2,
          17,
          17.1,
          16.1,
          15.7,
          15.8,
          16.5,
          17,
          15,
          16.1,
          15.8,
          15.1,
          15.9,
          16.3,
          16,
          16.2,
          15.7,
          16.1
         ],
         "xaxis": "x",
         "y": [
          230,
          218,
          215,
          219,
          215,
          216,
          213,
          217,
          221,
          222,
          218,
          215,
          215,
          215,
          220,
          222,
          230,
          220,
          219,
          208,
          225,
          216,
          222,
          225,
          215,
          220,
          225,
          220,
          220,
          224,
          221,
          231,
          230,
          229,
          223,
          221,
          221,
          230,
          220,
          223,
          221,
          224,
          228,
          218,
          230,
          228,
          224,
          226,
          216,
          225,
          228,
          228,
          215,
          219,
          209,
          229,
          230,
          230,
          222,
          222,
          213
         ],
         "yaxis": "y"
        },
        {
         "hovertemplate": "species=Gentoo<br>sex=FEMALE<br>bill_depth_mm=%{x}<br>flipper_length_mm=%{y}<extra></extra>",
         "legendgroup": "Gentoo, FEMALE",
         "marker": {
          "color": "#00cc96",
          "symbol": "diamond"
         },
         "mode": "markers",
         "name": "Gentoo, FEMALE",
         "orientation": "v",
         "showlegend": true,
         "type": "scatter",
         "x": [
          13.2,
          14.1,
          13.5,
          14.6,
          13.4,
          13.7,
          13.7,
          14.6,
          13.5,
          14.5,
          14.5,
          14.5,
          13.1,
          14.3,
          14.2,
          14.5,
          14.8,
          13.7,
          13.6,
          13.7,
          13.7,
          13.9,
          13.9,
          13.3,
          14.2,
          14.4,
          14.4,
          13.9,
          14.5,
          13.8,
          13.9,
          14.2,
          14.2,
          15,
          14.8,
          15,
          14.2,
          13.8,
          14.5,
          14.6,
          13.8,
          14.4,
          14,
          15,
          14.5,
          14.7,
          14.6,
          14.4,
          15,
          15.5,
          14.7,
          14,
          15.2,
          15.2,
          14.1,
          13.7,
          14.3,
          14.8
         ],
         "xaxis": "x",
         "y": [
          211,
          210,
          210,
          211,
          209,
          214,
          214,
          210,
          210,
          209,
          215,
          213,
          215,
          210,
          209,
          207,
          220,
          213,
          208,
          208,
          210,
          217,
          210,
          213,
          210,
          210,
          217,
          208,
          208,
          208,
          214,
          219,
          220,
          216,
          217,
          216,
          209,
          215,
          212,
          212,
          212,
          218,
          212,
          218,
          212,
          214,
          222,
          203,
          219,
          215,
          210,
          208,
          216,
          213,
          217,
          214,
          215,
          212
         ],
         "yaxis": "y"
        }
       ],
       "layout": {
        "legend": {
         "title": {
          "text": "species, sex"
         },
         "tracegroupgap": 0
        },
        "margin": {
         "t": 60
        },
        "template": {
         "data": {
          "bar": [
           {
            "error_x": {
             "color": "#2a3f5f"
            },
            "error_y": {
             "color": "#2a3f5f"
            },
            "marker": {
             "line": {
              "color": "#E5ECF6",
              "width": 0.5
             },
             "pattern": {
              "fillmode": "overlay",
              "size": 10,
              "solidity": 0.2
             }
            },
            "type": "bar"
           }
          ],
          "barpolar": [
           {
            "marker": {
             "line": {
              "color": "#E5ECF6",
              "width": 0.5
             },
             "pattern": {
              "fillmode": "overlay",
              "size": 10,
              "solidity": 0.2
             }
            },
            "type": "barpolar"
           }
          ],
          "carpet": [
           {
            "aaxis": {
             "endlinecolor": "#2a3f5f",
             "gridcolor": "white",
             "linecolor": "white",
             "minorgridcolor": "white",
             "startlinecolor": "#2a3f5f"
            },
            "baxis": {
             "endlinecolor": "#2a3f5f",
             "gridcolor": "white",
             "linecolor": "white",
             "minorgridcolor": "white",
             "startlinecolor": "#2a3f5f"
            },
            "type": "carpet"
           }
          ],
          "choropleth": [
           {
            "colorbar": {
             "outlinewidth": 0,
             "ticks": ""
            },
            "type": "choropleth"
           }
          ],
          "contour": [
           {
            "colorbar": {
             "outlinewidth": 0,
             "ticks": ""
            },
            "colorscale": [
             [
              0,
              "#0d0887"
             ],
             [
              0.1111111111111111,
              "#46039f"
             ],
             [
              0.2222222222222222,
              "#7201a8"
             ],
             [
              0.3333333333333333,
              "#9c179e"
             ],
             [
              0.4444444444444444,
              "#bd3786"
             ],
             [
              0.5555555555555556,
              "#d8576b"
             ],
             [
              0.6666666666666666,
              "#ed7953"
             ],
             [
              0.7777777777777778,
              "#fb9f3a"
             ],
             [
              0.8888888888888888,
              "#fdca26"
             ],
             [
              1,
              "#f0f921"
             ]
            ],
            "type": "contour"
           }
          ],
          "contourcarpet": [
           {
            "colorbar": {
             "outlinewidth": 0,
             "ticks": ""
            },
            "type": "contourcarpet"
           }
          ],
          "heatmap": [
           {
            "colorbar": {
             "outlinewidth": 0,
             "ticks": ""
            },
            "colorscale": [
             [
              0,
              "#0d0887"
             ],
             [
              0.1111111111111111,
              "#46039f"
             ],
             [
              0.2222222222222222,
              "#7201a8"
             ],
             [
              0.3333333333333333,
              "#9c179e"
             ],
             [
              0.4444444444444444,
              "#bd3786"
             ],
             [
              0.5555555555555556,
              "#d8576b"
             ],
             [
              0.6666666666666666,
              "#ed7953"
             ],
             [
              0.7777777777777778,
              "#fb9f3a"
             ],
             [
              0.8888888888888888,
              "#fdca26"
             ],
             [
              1,
              "#f0f921"
             ]
            ],
            "type": "heatmap"
           }
          ],
          "heatmapgl": [
           {
            "colorbar": {
             "outlinewidth": 0,
             "ticks": ""
            },
            "colorscale": [
             [
              0,
              "#0d0887"
             ],
             [
              0.1111111111111111,
              "#46039f"
             ],
             [
              0.2222222222222222,
              "#7201a8"
             ],
             [
              0.3333333333333333,
              "#9c179e"
             ],
             [
              0.4444444444444444,
              "#bd3786"
             ],
             [
              0.5555555555555556,
              "#d8576b"
             ],
             [
              0.6666666666666666,
              "#ed7953"
             ],
             [
              0.7777777777777778,
              "#fb9f3a"
             ],
             [
              0.8888888888888888,
              "#fdca26"
             ],
             [
              1,
              "#f0f921"
             ]
            ],
            "type": "heatmapgl"
           }
          ],
          "histogram": [
           {
            "marker": {
             "pattern": {
              "fillmode": "overlay",
              "size": 10,
              "solidity": 0.2
             }
            },
            "type": "histogram"
           }
          ],
          "histogram2d": [
           {
            "colorbar": {
             "outlinewidth": 0,
             "ticks": ""
            },
            "colorscale": [
             [
              0,
              "#0d0887"
             ],
             [
              0.1111111111111111,
              "#46039f"
             ],
             [
              0.2222222222222222,
              "#7201a8"
             ],
             [
              0.3333333333333333,
              "#9c179e"
             ],
             [
              0.4444444444444444,
              "#bd3786"
             ],
             [
              0.5555555555555556,
              "#d8576b"
             ],
             [
              0.6666666666666666,
              "#ed7953"
             ],
             [
              0.7777777777777778,
              "#fb9f3a"
             ],
             [
              0.8888888888888888,
              "#fdca26"
             ],
             [
              1,
              "#f0f921"
             ]
            ],
            "type": "histogram2d"
           }
          ],
          "histogram2dcontour": [
           {
            "colorbar": {
             "outlinewidth": 0,
             "ticks": ""
            },
            "colorscale": [
             [
              0,
              "#0d0887"
             ],
             [
              0.1111111111111111,
              "#46039f"
             ],
             [
              0.2222222222222222,
              "#7201a8"
             ],
             [
              0.3333333333333333,
              "#9c179e"
             ],
             [
              0.4444444444444444,
              "#bd3786"
             ],
             [
              0.5555555555555556,
              "#d8576b"
             ],
             [
              0.6666666666666666,
              "#ed7953"
             ],
             [
              0.7777777777777778,
              "#fb9f3a"
             ],
             [
              0.8888888888888888,
              "#fdca26"
             ],
             [
              1,
              "#f0f921"
             ]
            ],
            "type": "histogram2dcontour"
           }
          ],
          "mesh3d": [
           {
            "colorbar": {
             "outlinewidth": 0,
             "ticks": ""
            },
            "type": "mesh3d"
           }
          ],
          "parcoords": [
           {
            "line": {
             "colorbar": {
              "outlinewidth": 0,
              "ticks": ""
             }
            },
            "type": "parcoords"
           }
          ],
          "pie": [
           {
            "automargin": true,
            "type": "pie"
           }
          ],
          "scatter": [
           {
            "fillpattern": {
             "fillmode": "overlay",
             "size": 10,
             "solidity": 0.2
            },
            "type": "scatter"
           }
          ],
          "scatter3d": [
           {
            "line": {
             "colorbar": {
              "outlinewidth": 0,
              "ticks": ""
             }
            },
            "marker": {
             "colorbar": {
              "outlinewidth": 0,
              "ticks": ""
             }
            },
            "type": "scatter3d"
           }
          ],
          "scattercarpet": [
           {
            "marker": {
             "colorbar": {
              "outlinewidth": 0,
              "ticks": ""
             }
            },
            "type": "scattercarpet"
           }
          ],
          "scattergeo": [
           {
            "marker": {
             "colorbar": {
              "outlinewidth": 0,
              "ticks": ""
             }
            },
            "type": "scattergeo"
           }
          ],
          "scattergl": [
           {
            "marker": {
             "colorbar": {
              "outlinewidth": 0,
              "ticks": ""
             }
            },
            "type": "scattergl"
           }
          ],
          "scattermapbox": [
           {
            "marker": {
             "colorbar": {
              "outlinewidth": 0,
              "ticks": ""
             }
            },
            "type": "scattermapbox"
           }
          ],
          "scatterpolar": [
           {
            "marker": {
             "colorbar": {
              "outlinewidth": 0,
              "ticks": ""
             }
            },
            "type": "scatterpolar"
           }
          ],
          "scatterpolargl": [
           {
            "marker": {
             "colorbar": {
              "outlinewidth": 0,
              "ticks": ""
             }
            },
            "type": "scatterpolargl"
           }
          ],
          "scatterternary": [
           {
            "marker": {
             "colorbar": {
              "outlinewidth": 0,
              "ticks": ""
             }
            },
            "type": "scatterternary"
           }
          ],
          "surface": [
           {
            "colorbar": {
             "outlinewidth": 0,
             "ticks": ""
            },
            "colorscale": [
             [
              0,
              "#0d0887"
             ],
             [
              0.1111111111111111,
              "#46039f"
             ],
             [
              0.2222222222222222,
              "#7201a8"
             ],
             [
              0.3333333333333333,
              "#9c179e"
             ],
             [
              0.4444444444444444,
              "#bd3786"
             ],
             [
              0.5555555555555556,
              "#d8576b"
             ],
             [
              0.6666666666666666,
              "#ed7953"
             ],
             [
              0.7777777777777778,
              "#fb9f3a"
             ],
             [
              0.8888888888888888,
              "#fdca26"
             ],
             [
              1,
              "#f0f921"
             ]
            ],
            "type": "surface"
           }
          ],
          "table": [
           {
            "cells": {
             "fill": {
              "color": "#EBF0F8"
             },
             "line": {
              "color": "white"
             }
            },
            "header": {
             "fill": {
              "color": "#C8D4E3"
             },
             "line": {
              "color": "white"
             }
            },
            "type": "table"
           }
          ]
         },
         "layout": {
          "annotationdefaults": {
           "arrowcolor": "#2a3f5f",
           "arrowhead": 0,
           "arrowwidth": 1
          },
          "autotypenumbers": "strict",
          "coloraxis": {
           "colorbar": {
            "outlinewidth": 0,
            "ticks": ""
           }
          },
          "colorscale": {
           "diverging": [
            [
             0,
             "#8e0152"
            ],
            [
             0.1,
             "#c51b7d"
            ],
            [
             0.2,
             "#de77ae"
            ],
            [
             0.3,
             "#f1b6da"
            ],
            [
             0.4,
             "#fde0ef"
            ],
            [
             0.5,
             "#f7f7f7"
            ],
            [
             0.6,
             "#e6f5d0"
            ],
            [
             0.7,
             "#b8e186"
            ],
            [
             0.8,
             "#7fbc41"
            ],
            [
             0.9,
             "#4d9221"
            ],
            [
             1,
             "#276419"
            ]
           ],
           "sequential": [
            [
             0,
             "#0d0887"
            ],
            [
             0.1111111111111111,
             "#46039f"
            ],
            [
             0.2222222222222222,
             "#7201a8"
            ],
            [
             0.3333333333333333,
             "#9c179e"
            ],
            [
             0.4444444444444444,
             "#bd3786"
            ],
            [
             0.5555555555555556,
             "#d8576b"
            ],
            [
             0.6666666666666666,
             "#ed7953"
            ],
            [
             0.7777777777777778,
             "#fb9f3a"
            ],
            [
             0.8888888888888888,
             "#fdca26"
            ],
            [
             1,
             "#f0f921"
            ]
           ],
           "sequentialminus": [
            [
             0,
             "#0d0887"
            ],
            [
             0.1111111111111111,
             "#46039f"
            ],
            [
             0.2222222222222222,
             "#7201a8"
            ],
            [
             0.3333333333333333,
             "#9c179e"
            ],
            [
             0.4444444444444444,
             "#bd3786"
            ],
            [
             0.5555555555555556,
             "#d8576b"
            ],
            [
             0.6666666666666666,
             "#ed7953"
            ],
            [
             0.7777777777777778,
             "#fb9f3a"
            ],
            [
             0.8888888888888888,
             "#fdca26"
            ],
            [
             1,
             "#f0f921"
            ]
           ]
          },
          "colorway": [
           "#636efa",
           "#EF553B",
           "#00cc96",
           "#ab63fa",
           "#FFA15A",
           "#19d3f3",
           "#FF6692",
           "#B6E880",
           "#FF97FF",
           "#FECB52"
          ],
          "font": {
           "color": "#2a3f5f"
          },
          "geo": {
           "bgcolor": "white",
           "lakecolor": "white",
           "landcolor": "#E5ECF6",
           "showlakes": true,
           "showland": true,
           "subunitcolor": "white"
          },
          "hoverlabel": {
           "align": "left"
          },
          "hovermode": "closest",
          "mapbox": {
           "style": "light"
          },
          "paper_bgcolor": "white",
          "plot_bgcolor": "#E5ECF6",
          "polar": {
           "angularaxis": {
            "gridcolor": "white",
            "linecolor": "white",
            "ticks": ""
           },
           "bgcolor": "#E5ECF6",
           "radialaxis": {
            "gridcolor": "white",
            "linecolor": "white",
            "ticks": ""
           }
          },
          "scene": {
           "xaxis": {
            "backgroundcolor": "#E5ECF6",
            "gridcolor": "white",
            "gridwidth": 2,
            "linecolor": "white",
            "showbackground": true,
            "ticks": "",
            "zerolinecolor": "white"
           },
           "yaxis": {
            "backgroundcolor": "#E5ECF6",
            "gridcolor": "white",
            "gridwidth": 2,
            "linecolor": "white",
            "showbackground": true,
            "ticks": "",
            "zerolinecolor": "white"
           },
           "zaxis": {
            "backgroundcolor": "#E5ECF6",
            "gridcolor": "white",
            "gridwidth": 2,
            "linecolor": "white",
            "showbackground": true,
            "ticks": "",
            "zerolinecolor": "white"
           }
          },
          "shapedefaults": {
           "line": {
            "color": "#2a3f5f"
           }
          },
          "ternary": {
           "aaxis": {
            "gridcolor": "white",
            "linecolor": "white",
            "ticks": ""
           },
           "baxis": {
            "gridcolor": "white",
            "linecolor": "white",
            "ticks": ""
           },
           "bgcolor": "#E5ECF6",
           "caxis": {
            "gridcolor": "white",
            "linecolor": "white",
            "ticks": ""
           }
          },
          "title": {
           "x": 0.05
          },
          "xaxis": {
           "automargin": true,
           "gridcolor": "white",
           "linecolor": "white",
           "ticks": "",
           "title": {
            "standoff": 15
           },
           "zerolinecolor": "white",
           "zerolinewidth": 2
          },
          "yaxis": {
           "automargin": true,
           "gridcolor": "white",
           "linecolor": "white",
           "ticks": "",
           "title": {
            "standoff": 15
           },
           "zerolinecolor": "white",
           "zerolinewidth": 2
          }
         }
        },
        "xaxis": {
         "anchor": "y",
         "domain": [
          0,
          1
         ],
         "title": {
          "text": "bill_depth_mm"
         }
        },
        "yaxis": {
         "anchor": "x",
         "domain": [
          0,
          1
         ],
         "title": {
          "text": "flipper_length_mm"
         }
        }
       }
      },
      "text/html": [
       "<div>                        <script type=\"text/javascript\">window.PlotlyConfig = {MathJaxConfig: 'local'};</script>\n",
       "        <script charset=\"utf-8\" src=\"https://cdn.plot.ly/plotly-2.27.0.min.js\"></script>                <div id=\"63a82432-31a3-41b6-8d11-240b4bf4c71f\" class=\"plotly-graph-div\" style=\"height:100%; width:100%;\"></div>            <script type=\"text/javascript\">                                    window.PLOTLYENV=window.PLOTLYENV || {};                                    if (document.getElementById(\"63a82432-31a3-41b6-8d11-240b4bf4c71f\")) {                    Plotly.newPlot(                        \"63a82432-31a3-41b6-8d11-240b4bf4c71f\",                        [{\"hovertemplate\":\"species=Adelie\\u003cbr\\u003esex=MALE\\u003cbr\\u003ebill_depth_mm=%{x}\\u003cbr\\u003eflipper_length_mm=%{y}\\u003cextra\\u003e\\u003c\\u002fextra\\u003e\",\"legendgroup\":\"Adelie, MALE\",\"marker\":{\"color\":\"#636efa\",\"symbol\":\"circle\"},\"mode\":\"markers\",\"name\":\"Adelie, MALE\",\"orientation\":\"v\",\"showlegend\":true,\"x\":[18.7,20.6,19.6,21.2,21.1,20.7,21.5,18.7,18.1,17.2,18.6,18.9,18.1,18.9,21.1,20.0,19.1,18.4,19.7,18.8,19.0,21.2,18.9,19.5,18.6,18.8,19.1,21.1,18.2,18.0,19.1,19.4,18.4,18.9,18.5,19.4,19.1,17.6,19.4,20.3,19.5,19.2,18.1,18.1,18.9,18.5,18.5,20.0,20.0,18.9,20.0,19.0,20.3,19.5,18.3,20.5,18.6,19.8,18.5,19.0,18.3,18.0,19.2,18.5,17.5,20.1,17.9,17.2,17.0,18.7,18.6,18.1,18.5],\"xaxis\":\"x\",\"y\":[181.0,190.0,195.0,191.0,198.0,197.0,194.0,180.0,185.0,180.0,183.0,180.0,178.0,184.0,196.0,190.0,184.0,195.0,196.0,190.0,182.0,191.0,188.0,200.0,191.0,193.0,194.0,195.0,192.0,192.0,188.0,198.0,190.0,197.0,195.0,184.0,195.0,196.0,193.0,194.0,190.0,189.0,205.0,186.0,208.0,196.0,192.0,203.0,190.0,184.0,190.0,197.0,191.0,197.0,196.0,199.0,189.0,198.0,202.0,199.0,195.0,210.0,197.0,199.0,190.0,200.0,193.0,187.0,190.0,185.0,190.0,193.0,201.0],\"yaxis\":\"y\",\"type\":\"scatter\"},{\"hovertemplate\":\"species=Adelie\\u003cbr\\u003esex=FEMALE\\u003cbr\\u003ebill_depth_mm=%{x}\\u003cbr\\u003eflipper_length_mm=%{y}\\u003cextra\\u003e\\u003c\\u002fextra\\u003e\",\"legendgroup\":\"Adelie, FEMALE\",\"marker\":{\"color\":\"#636efa\",\"symbol\":\"diamond\"},\"mode\":\"markers\",\"name\":\"Adelie, FEMALE\",\"orientation\":\"v\",\"showlegend\":true,\"x\":[17.4,18.0,19.3,17.8,17.6,17.8,19.0,18.4,18.3,19.2,18.9,17.9,18.6,16.7,17.8,17.0,18.5,19.3,18.0,18.5,16.9,17.9,17.7,17.9,18.1,17.5,16.6,16.9,17.0,17.1,16.2,16.6,19.0,17.2,17.5,16.8,16.1,17.2,18.8,17.8,18.6,18.8,18.0,17.1,17.3,18.6,16.1,17.9,16.0,18.6,17.2,17.0,16.5,17.7,20.7,17.0,17.0,17.2,17.0,15.9,17.6,17.1,17.9,18.5,17.6,17.5,16.5,17.1,15.5,16.8,18.4,17.8,17.1],\"xaxis\":\"x\",\"y\":[186.0,195.0,193.0,181.0,182.0,185.0,195.0,184.0,174.0,189.0,187.0,187.0,172.0,178.0,188.0,195.0,180.0,181.0,182.0,186.0,185.0,190.0,186.0,190.0,187.0,186.0,181.0,185.0,185.0,184.0,195.0,190.0,190.0,196.0,190.0,191.0,187.0,189.0,187.0,191.0,189.0,190.0,202.0,185.0,187.0,190.0,178.0,192.0,183.0,193.0,199.0,181.0,198.0,193.0,191.0,188.0,189.0,187.0,176.0,186.0,191.0,191.0,190.0,193.0,187.0,191.0,185.0,193.0,188.0,192.0,184.0,195.0,187.0],\"yaxis\":\"y\",\"type\":\"scatter\"},{\"hovertemplate\":\"species=Chinstrap\\u003cbr\\u003esex=MALE\\u003cbr\\u003ebill_depth_mm=%{x}\\u003cbr\\u003eflipper_length_mm=%{y}\\u003cextra\\u003e\\u003c\\u002fextra\\u003e\",\"legendgroup\":\"Chinstrap, MALE\",\"marker\":{\"color\":\"#EF553B\",\"symbol\":\"circle\"},\"mode\":\"markers\",\"name\":\"Chinstrap, MALE\",\"orientation\":\"v\",\"showlegend\":true,\"x\":[19.5,19.2,19.8,18.2,19.9,20.3,18.1,19.6,20.0,18.2,17.5,19.4,19.0,19.0,20.0,20.8,18.8,18.6,20.7,19.9,19.5,19.1,18.5,19.6,18.7,19.0,19.7,18.8,19.9,18.8,19.5,19.8,18.2,19.0],\"xaxis\":\"x\",\"y\":[196.0,193.0,197.0,197.0,198.0,194.0,201.0,201.0,197.0,195.0,191.0,193.0,197.0,200.0,205.0,201.0,203.0,195.0,210.0,205.0,210.0,196.0,201.0,212.0,187.0,201.0,203.0,197.0,203.0,202.0,206.0,207.0,193.0,210.0],\"yaxis\":\"y\",\"type\":\"scatter\"},{\"hovertemplate\":\"species=Chinstrap\\u003cbr\\u003esex=FEMALE\\u003cbr\\u003ebill_depth_mm=%{x}\\u003cbr\\u003eflipper_length_mm=%{y}\\u003cextra\\u003e\\u003c\\u002fextra\\u003e\",\"legendgroup\":\"Chinstrap, FEMALE\",\"marker\":{\"color\":\"#EF553B\",\"symbol\":\"diamond\"},\"mode\":\"markers\",\"name\":\"Chinstrap, FEMALE\",\"orientation\":\"v\",\"showlegend\":true,\"x\":[17.9,18.7,17.8,18.2,18.9,17.8,17.3,17.1,17.8,18.6,17.3,16.6,17.9,18.4,17.8,16.6,16.7,16.8,18.3,16.6,17.5,17.0,17.9,17.9,17.3,16.4,17.3,17.3,16.6,19.4,16.5,17.0,18.1,18.7],\"xaxis\":\"x\",\"y\":[192.0,188.0,198.0,178.0,195.0,193.0,185.0,190.0,181.0,190.0,181.0,187.0,195.0,200.0,191.0,187.0,187.0,199.0,195.0,192.0,187.0,196.0,196.0,190.0,198.0,199.0,193.0,187.0,191.0,194.0,189.0,195.0,202.0,198.0],\"yaxis\":\"y\",\"type\":\"scatter\"},{\"hovertemplate\":\"species=Gentoo\\u003cbr\\u003esex=MALE\\u003cbr\\u003ebill_depth_mm=%{x}\\u003cbr\\u003eflipper_length_mm=%{y}\\u003cextra\\u003e\\u003c\\u002fextra\\u003e\",\"legendgroup\":\"Gentoo, MALE\",\"marker\":{\"color\":\"#00cc96\",\"symbol\":\"circle\"},\"mode\":\"markers\",\"name\":\"Gentoo, MALE\",\"orientation\":\"v\",\"showlegend\":true,\"x\":[16.3,15.2,14.5,15.3,15.4,16.1,14.6,15.7,15.2,15.1,14.3,15.8,15.1,15.0,15.3,15.3,17.0,16.3,17.3,15.7,16.0,15.0,15.9,15.9,15.8,14.1,15.0,15.4,15.0,15.3,14.9,15.7,16.8,16.2,15.0,15.6,15.6,16.0,16.3,16.4,15.6,15.9,17.3,14.2,17.0,17.1,16.1,15.7,15.8,16.5,17.0,15.0,16.1,15.8,15.1,15.9,16.3,16.0,16.2,15.7,16.1],\"xaxis\":\"x\",\"y\":[230.0,218.0,215.0,219.0,215.0,216.0,213.0,217.0,221.0,222.0,218.0,215.0,215.0,215.0,220.0,222.0,230.0,220.0,219.0,208.0,225.0,216.0,222.0,225.0,215.0,220.0,225.0,220.0,220.0,224.0,221.0,231.0,230.0,229.0,223.0,221.0,221.0,230.0,220.0,223.0,221.0,224.0,228.0,218.0,230.0,228.0,224.0,226.0,216.0,225.0,228.0,228.0,215.0,219.0,209.0,229.0,230.0,230.0,222.0,222.0,213.0],\"yaxis\":\"y\",\"type\":\"scatter\"},{\"hovertemplate\":\"species=Gentoo\\u003cbr\\u003esex=FEMALE\\u003cbr\\u003ebill_depth_mm=%{x}\\u003cbr\\u003eflipper_length_mm=%{y}\\u003cextra\\u003e\\u003c\\u002fextra\\u003e\",\"legendgroup\":\"Gentoo, FEMALE\",\"marker\":{\"color\":\"#00cc96\",\"symbol\":\"diamond\"},\"mode\":\"markers\",\"name\":\"Gentoo, FEMALE\",\"orientation\":\"v\",\"showlegend\":true,\"x\":[13.2,14.1,13.5,14.6,13.4,13.7,13.7,14.6,13.5,14.5,14.5,14.5,13.1,14.3,14.2,14.5,14.8,13.7,13.6,13.7,13.7,13.9,13.9,13.3,14.2,14.4,14.4,13.9,14.5,13.8,13.9,14.2,14.2,15.0,14.8,15.0,14.2,13.8,14.5,14.6,13.8,14.4,14.0,15.0,14.5,14.7,14.6,14.4,15.0,15.5,14.7,14.0,15.2,15.2,14.1,13.7,14.3,14.8],\"xaxis\":\"x\",\"y\":[211.0,210.0,210.0,211.0,209.0,214.0,214.0,210.0,210.0,209.0,215.0,213.0,215.0,210.0,209.0,207.0,220.0,213.0,208.0,208.0,210.0,217.0,210.0,213.0,210.0,210.0,217.0,208.0,208.0,208.0,214.0,219.0,220.0,216.0,217.0,216.0,209.0,215.0,212.0,212.0,212.0,218.0,212.0,218.0,212.0,214.0,222.0,203.0,219.0,215.0,210.0,208.0,216.0,213.0,217.0,214.0,215.0,212.0],\"yaxis\":\"y\",\"type\":\"scatter\"}],                        {\"template\":{\"data\":{\"histogram2dcontour\":[{\"type\":\"histogram2dcontour\",\"colorbar\":{\"outlinewidth\":0,\"ticks\":\"\"},\"colorscale\":[[0.0,\"#0d0887\"],[0.1111111111111111,\"#46039f\"],[0.2222222222222222,\"#7201a8\"],[0.3333333333333333,\"#9c179e\"],[0.4444444444444444,\"#bd3786\"],[0.5555555555555556,\"#d8576b\"],[0.6666666666666666,\"#ed7953\"],[0.7777777777777778,\"#fb9f3a\"],[0.8888888888888888,\"#fdca26\"],[1.0,\"#f0f921\"]]}],\"choropleth\":[{\"type\":\"choropleth\",\"colorbar\":{\"outlinewidth\":0,\"ticks\":\"\"}}],\"histogram2d\":[{\"type\":\"histogram2d\",\"colorbar\":{\"outlinewidth\":0,\"ticks\":\"\"},\"colorscale\":[[0.0,\"#0d0887\"],[0.1111111111111111,\"#46039f\"],[0.2222222222222222,\"#7201a8\"],[0.3333333333333333,\"#9c179e\"],[0.4444444444444444,\"#bd3786\"],[0.5555555555555556,\"#d8576b\"],[0.6666666666666666,\"#ed7953\"],[0.7777777777777778,\"#fb9f3a\"],[0.8888888888888888,\"#fdca26\"],[1.0,\"#f0f921\"]]}],\"heatmap\":[{\"type\":\"heatmap\",\"colorbar\":{\"outlinewidth\":0,\"ticks\":\"\"},\"colorscale\":[[0.0,\"#0d0887\"],[0.1111111111111111,\"#46039f\"],[0.2222222222222222,\"#7201a8\"],[0.3333333333333333,\"#9c179e\"],[0.4444444444444444,\"#bd3786\"],[0.5555555555555556,\"#d8576b\"],[0.6666666666666666,\"#ed7953\"],[0.7777777777777778,\"#fb9f3a\"],[0.8888888888888888,\"#fdca26\"],[1.0,\"#f0f921\"]]}],\"heatmapgl\":[{\"type\":\"heatmapgl\",\"colorbar\":{\"outlinewidth\":0,\"ticks\":\"\"},\"colorscale\":[[0.0,\"#0d0887\"],[0.1111111111111111,\"#46039f\"],[0.2222222222222222,\"#7201a8\"],[0.3333333333333333,\"#9c179e\"],[0.4444444444444444,\"#bd3786\"],[0.5555555555555556,\"#d8576b\"],[0.6666666666666666,\"#ed7953\"],[0.7777777777777778,\"#fb9f3a\"],[0.8888888888888888,\"#fdca26\"],[1.0,\"#f0f921\"]]}],\"contourcarpet\":[{\"type\":\"contourcarpet\",\"colorbar\":{\"outlinewidth\":0,\"ticks\":\"\"}}],\"contour\":[{\"type\":\"contour\",\"colorbar\":{\"outlinewidth\":0,\"ticks\":\"\"},\"colorscale\":[[0.0,\"#0d0887\"],[0.1111111111111111,\"#46039f\"],[0.2222222222222222,\"#7201a8\"],[0.3333333333333333,\"#9c179e\"],[0.4444444444444444,\"#bd3786\"],[0.5555555555555556,\"#d8576b\"],[0.6666666666666666,\"#ed7953\"],[0.7777777777777778,\"#fb9f3a\"],[0.8888888888888888,\"#fdca26\"],[1.0,\"#f0f921\"]]}],\"surface\":[{\"type\":\"surface\",\"colorbar\":{\"outlinewidth\":0,\"ticks\":\"\"},\"colorscale\":[[0.0,\"#0d0887\"],[0.1111111111111111,\"#46039f\"],[0.2222222222222222,\"#7201a8\"],[0.3333333333333333,\"#9c179e\"],[0.4444444444444444,\"#bd3786\"],[0.5555555555555556,\"#d8576b\"],[0.6666666666666666,\"#ed7953\"],[0.7777777777777778,\"#fb9f3a\"],[0.8888888888888888,\"#fdca26\"],[1.0,\"#f0f921\"]]}],\"mesh3d\":[{\"type\":\"mesh3d\",\"colorbar\":{\"outlinewidth\":0,\"ticks\":\"\"}}],\"scatter\":[{\"fillpattern\":{\"fillmode\":\"overlay\",\"size\":10,\"solidity\":0.2},\"type\":\"scatter\"}],\"parcoords\":[{\"type\":\"parcoords\",\"line\":{\"colorbar\":{\"outlinewidth\":0,\"ticks\":\"\"}}}],\"scatterpolargl\":[{\"type\":\"scatterpolargl\",\"marker\":{\"colorbar\":{\"outlinewidth\":0,\"ticks\":\"\"}}}],\"bar\":[{\"error_x\":{\"color\":\"#2a3f5f\"},\"error_y\":{\"color\":\"#2a3f5f\"},\"marker\":{\"line\":{\"color\":\"#E5ECF6\",\"width\":0.5},\"pattern\":{\"fillmode\":\"overlay\",\"size\":10,\"solidity\":0.2}},\"type\":\"bar\"}],\"scattergeo\":[{\"type\":\"scattergeo\",\"marker\":{\"colorbar\":{\"outlinewidth\":0,\"ticks\":\"\"}}}],\"scatterpolar\":[{\"type\":\"scatterpolar\",\"marker\":{\"colorbar\":{\"outlinewidth\":0,\"ticks\":\"\"}}}],\"histogram\":[{\"marker\":{\"pattern\":{\"fillmode\":\"overlay\",\"size\":10,\"solidity\":0.2}},\"type\":\"histogram\"}],\"scattergl\":[{\"type\":\"scattergl\",\"marker\":{\"colorbar\":{\"outlinewidth\":0,\"ticks\":\"\"}}}],\"scatter3d\":[{\"type\":\"scatter3d\",\"line\":{\"colorbar\":{\"outlinewidth\":0,\"ticks\":\"\"}},\"marker\":{\"colorbar\":{\"outlinewidth\":0,\"ticks\":\"\"}}}],\"scattermapbox\":[{\"type\":\"scattermapbox\",\"marker\":{\"colorbar\":{\"outlinewidth\":0,\"ticks\":\"\"}}}],\"scatterternary\":[{\"type\":\"scatterternary\",\"marker\":{\"colorbar\":{\"outlinewidth\":0,\"ticks\":\"\"}}}],\"scattercarpet\":[{\"type\":\"scattercarpet\",\"marker\":{\"colorbar\":{\"outlinewidth\":0,\"ticks\":\"\"}}}],\"carpet\":[{\"aaxis\":{\"endlinecolor\":\"#2a3f5f\",\"gridcolor\":\"white\",\"linecolor\":\"white\",\"minorgridcolor\":\"white\",\"startlinecolor\":\"#2a3f5f\"},\"baxis\":{\"endlinecolor\":\"#2a3f5f\",\"gridcolor\":\"white\",\"linecolor\":\"white\",\"minorgridcolor\":\"white\",\"startlinecolor\":\"#2a3f5f\"},\"type\":\"carpet\"}],\"table\":[{\"cells\":{\"fill\":{\"color\":\"#EBF0F8\"},\"line\":{\"color\":\"white\"}},\"header\":{\"fill\":{\"color\":\"#C8D4E3\"},\"line\":{\"color\":\"white\"}},\"type\":\"table\"}],\"barpolar\":[{\"marker\":{\"line\":{\"color\":\"#E5ECF6\",\"width\":0.5},\"pattern\":{\"fillmode\":\"overlay\",\"size\":10,\"solidity\":0.2}},\"type\":\"barpolar\"}],\"pie\":[{\"automargin\":true,\"type\":\"pie\"}]},\"layout\":{\"autotypenumbers\":\"strict\",\"colorway\":[\"#636efa\",\"#EF553B\",\"#00cc96\",\"#ab63fa\",\"#FFA15A\",\"#19d3f3\",\"#FF6692\",\"#B6E880\",\"#FF97FF\",\"#FECB52\"],\"font\":{\"color\":\"#2a3f5f\"},\"hovermode\":\"closest\",\"hoverlabel\":{\"align\":\"left\"},\"paper_bgcolor\":\"white\",\"plot_bgcolor\":\"#E5ECF6\",\"polar\":{\"bgcolor\":\"#E5ECF6\",\"angularaxis\":{\"gridcolor\":\"white\",\"linecolor\":\"white\",\"ticks\":\"\"},\"radialaxis\":{\"gridcolor\":\"white\",\"linecolor\":\"white\",\"ticks\":\"\"}},\"ternary\":{\"bgcolor\":\"#E5ECF6\",\"aaxis\":{\"gridcolor\":\"white\",\"linecolor\":\"white\",\"ticks\":\"\"},\"baxis\":{\"gridcolor\":\"white\",\"linecolor\":\"white\",\"ticks\":\"\"},\"caxis\":{\"gridcolor\":\"white\",\"linecolor\":\"white\",\"ticks\":\"\"}},\"coloraxis\":{\"colorbar\":{\"outlinewidth\":0,\"ticks\":\"\"}},\"colorscale\":{\"sequential\":[[0.0,\"#0d0887\"],[0.1111111111111111,\"#46039f\"],[0.2222222222222222,\"#7201a8\"],[0.3333333333333333,\"#9c179e\"],[0.4444444444444444,\"#bd3786\"],[0.5555555555555556,\"#d8576b\"],[0.6666666666666666,\"#ed7953\"],[0.7777777777777778,\"#fb9f3a\"],[0.8888888888888888,\"#fdca26\"],[1.0,\"#f0f921\"]],\"sequentialminus\":[[0.0,\"#0d0887\"],[0.1111111111111111,\"#46039f\"],[0.2222222222222222,\"#7201a8\"],[0.3333333333333333,\"#9c179e\"],[0.4444444444444444,\"#bd3786\"],[0.5555555555555556,\"#d8576b\"],[0.6666666666666666,\"#ed7953\"],[0.7777777777777778,\"#fb9f3a\"],[0.8888888888888888,\"#fdca26\"],[1.0,\"#f0f921\"]],\"diverging\":[[0,\"#8e0152\"],[0.1,\"#c51b7d\"],[0.2,\"#de77ae\"],[0.3,\"#f1b6da\"],[0.4,\"#fde0ef\"],[0.5,\"#f7f7f7\"],[0.6,\"#e6f5d0\"],[0.7,\"#b8e186\"],[0.8,\"#7fbc41\"],[0.9,\"#4d9221\"],[1,\"#276419\"]]},\"xaxis\":{\"gridcolor\":\"white\",\"linecolor\":\"white\",\"ticks\":\"\",\"title\":{\"standoff\":15},\"zerolinecolor\":\"white\",\"automargin\":true,\"zerolinewidth\":2},\"yaxis\":{\"gridcolor\":\"white\",\"linecolor\":\"white\",\"ticks\":\"\",\"title\":{\"standoff\":15},\"zerolinecolor\":\"white\",\"automargin\":true,\"zerolinewidth\":2},\"scene\":{\"xaxis\":{\"backgroundcolor\":\"#E5ECF6\",\"gridcolor\":\"white\",\"linecolor\":\"white\",\"showbackground\":true,\"ticks\":\"\",\"zerolinecolor\":\"white\",\"gridwidth\":2},\"yaxis\":{\"backgroundcolor\":\"#E5ECF6\",\"gridcolor\":\"white\",\"linecolor\":\"white\",\"showbackground\":true,\"ticks\":\"\",\"zerolinecolor\":\"white\",\"gridwidth\":2},\"zaxis\":{\"backgroundcolor\":\"#E5ECF6\",\"gridcolor\":\"white\",\"linecolor\":\"white\",\"showbackground\":true,\"ticks\":\"\",\"zerolinecolor\":\"white\",\"gridwidth\":2}},\"shapedefaults\":{\"line\":{\"color\":\"#2a3f5f\"}},\"annotationdefaults\":{\"arrowcolor\":\"#2a3f5f\",\"arrowhead\":0,\"arrowwidth\":1},\"geo\":{\"bgcolor\":\"white\",\"landcolor\":\"#E5ECF6\",\"subunitcolor\":\"white\",\"showland\":true,\"showlakes\":true,\"lakecolor\":\"white\"},\"title\":{\"x\":0.05},\"mapbox\":{\"style\":\"light\"}}},\"xaxis\":{\"anchor\":\"y\",\"domain\":[0.0,1.0],\"title\":{\"text\":\"bill_depth_mm\"}},\"yaxis\":{\"anchor\":\"x\",\"domain\":[0.0,1.0],\"title\":{\"text\":\"flipper_length_mm\"}},\"legend\":{\"title\":{\"text\":\"species, sex\"},\"tracegroupgap\":0},\"margin\":{\"t\":60}},                        {\"responsive\": true}                    )                };                            </script>        </div>"
      ],
      "text/plain": [
       "Figure({\n",
       "    'data': [{'hovertemplate': ('species=Adelie<br>sex=MALE<br>' ... '_length_mm=%{y}<extra></extra>'),\n",
       "              'legendgroup': 'Adelie, MALE',\n",
       "              'marker': {'color': '#636efa', 'symbol': 'circle'},\n",
       "              'mode': 'markers',\n",
       "              'name': 'Adelie, MALE',\n",
       "              'orientation': 'v',\n",
       "              'showlegend': True,\n",
       "              'type': 'scatter',\n",
       "              'x': array([18.7, 20.6, 19.6, 21.2, 21.1, 20.7, 21.5, 18.7, 18.1, 17.2, 18.6, 18.9,\n",
       "                          18.1, 18.9, 21.1, 20. , 19.1, 18.4, 19.7, 18.8, 19. , 21.2, 18.9, 19.5,\n",
       "                          18.6, 18.8, 19.1, 21.1, 18.2, 18. , 19.1, 19.4, 18.4, 18.9, 18.5, 19.4,\n",
       "                          19.1, 17.6, 19.4, 20.3, 19.5, 19.2, 18.1, 18.1, 18.9, 18.5, 18.5, 20. ,\n",
       "                          20. , 18.9, 20. , 19. , 20.3, 19.5, 18.3, 20.5, 18.6, 19.8, 18.5, 19. ,\n",
       "                          18.3, 18. , 19.2, 18.5, 17.5, 20.1, 17.9, 17.2, 17. , 18.7, 18.6, 18.1,\n",
       "                          18.5]),\n",
       "              'xaxis': 'x',\n",
       "              'y': array([181., 190., 195., 191., 198., 197., 194., 180., 185., 180., 183., 180.,\n",
       "                          178., 184., 196., 190., 184., 195., 196., 190., 182., 191., 188., 200.,\n",
       "                          191., 193., 194., 195., 192., 192., 188., 198., 190., 197., 195., 184.,\n",
       "                          195., 196., 193., 194., 190., 189., 205., 186., 208., 196., 192., 203.,\n",
       "                          190., 184., 190., 197., 191., 197., 196., 199., 189., 198., 202., 199.,\n",
       "                          195., 210., 197., 199., 190., 200., 193., 187., 190., 185., 190., 193.,\n",
       "                          201.]),\n",
       "              'yaxis': 'y'},\n",
       "             {'hovertemplate': ('species=Adelie<br>sex=FEMALE<b' ... '_length_mm=%{y}<extra></extra>'),\n",
       "              'legendgroup': 'Adelie, FEMALE',\n",
       "              'marker': {'color': '#636efa', 'symbol': 'diamond'},\n",
       "              'mode': 'markers',\n",
       "              'name': 'Adelie, FEMALE',\n",
       "              'orientation': 'v',\n",
       "              'showlegend': True,\n",
       "              'type': 'scatter',\n",
       "              'x': array([17.4, 18. , 19.3, 17.8, 17.6, 17.8, 19. , 18.4, 18.3, 19.2, 18.9, 17.9,\n",
       "                          18.6, 16.7, 17.8, 17. , 18.5, 19.3, 18. , 18.5, 16.9, 17.9, 17.7, 17.9,\n",
       "                          18.1, 17.5, 16.6, 16.9, 17. , 17.1, 16.2, 16.6, 19. , 17.2, 17.5, 16.8,\n",
       "                          16.1, 17.2, 18.8, 17.8, 18.6, 18.8, 18. , 17.1, 17.3, 18.6, 16.1, 17.9,\n",
       "                          16. , 18.6, 17.2, 17. , 16.5, 17.7, 20.7, 17. , 17. , 17.2, 17. , 15.9,\n",
       "                          17.6, 17.1, 17.9, 18.5, 17.6, 17.5, 16.5, 17.1, 15.5, 16.8, 18.4, 17.8,\n",
       "                          17.1]),\n",
       "              'xaxis': 'x',\n",
       "              'y': array([186., 195., 193., 181., 182., 185., 195., 184., 174., 189., 187., 187.,\n",
       "                          172., 178., 188., 195., 180., 181., 182., 186., 185., 190., 186., 190.,\n",
       "                          187., 186., 181., 185., 185., 184., 195., 190., 190., 196., 190., 191.,\n",
       "                          187., 189., 187., 191., 189., 190., 202., 185., 187., 190., 178., 192.,\n",
       "                          183., 193., 199., 181., 198., 193., 191., 188., 189., 187., 176., 186.,\n",
       "                          191., 191., 190., 193., 187., 191., 185., 193., 188., 192., 184., 195.,\n",
       "                          187.]),\n",
       "              'yaxis': 'y'},\n",
       "             {'hovertemplate': ('species=Chinstrap<br>sex=MALE<' ... '_length_mm=%{y}<extra></extra>'),\n",
       "              'legendgroup': 'Chinstrap, MALE',\n",
       "              'marker': {'color': '#EF553B', 'symbol': 'circle'},\n",
       "              'mode': 'markers',\n",
       "              'name': 'Chinstrap, MALE',\n",
       "              'orientation': 'v',\n",
       "              'showlegend': True,\n",
       "              'type': 'scatter',\n",
       "              'x': array([19.5, 19.2, 19.8, 18.2, 19.9, 20.3, 18.1, 19.6, 20. , 18.2, 17.5, 19.4,\n",
       "                          19. , 19. , 20. , 20.8, 18.8, 18.6, 20.7, 19.9, 19.5, 19.1, 18.5, 19.6,\n",
       "                          18.7, 19. , 19.7, 18.8, 19.9, 18.8, 19.5, 19.8, 18.2, 19. ]),\n",
       "              'xaxis': 'x',\n",
       "              'y': array([196., 193., 197., 197., 198., 194., 201., 201., 197., 195., 191., 193.,\n",
       "                          197., 200., 205., 201., 203., 195., 210., 205., 210., 196., 201., 212.,\n",
       "                          187., 201., 203., 197., 203., 202., 206., 207., 193., 210.]),\n",
       "              'yaxis': 'y'},\n",
       "             {'hovertemplate': ('species=Chinstrap<br>sex=FEMAL' ... '_length_mm=%{y}<extra></extra>'),\n",
       "              'legendgroup': 'Chinstrap, FEMALE',\n",
       "              'marker': {'color': '#EF553B', 'symbol': 'diamond'},\n",
       "              'mode': 'markers',\n",
       "              'name': 'Chinstrap, FEMALE',\n",
       "              'orientation': 'v',\n",
       "              'showlegend': True,\n",
       "              'type': 'scatter',\n",
       "              'x': array([17.9, 18.7, 17.8, 18.2, 18.9, 17.8, 17.3, 17.1, 17.8, 18.6, 17.3, 16.6,\n",
       "                          17.9, 18.4, 17.8, 16.6, 16.7, 16.8, 18.3, 16.6, 17.5, 17. , 17.9, 17.9,\n",
       "                          17.3, 16.4, 17.3, 17.3, 16.6, 19.4, 16.5, 17. , 18.1, 18.7]),\n",
       "              'xaxis': 'x',\n",
       "              'y': array([192., 188., 198., 178., 195., 193., 185., 190., 181., 190., 181., 187.,\n",
       "                          195., 200., 191., 187., 187., 199., 195., 192., 187., 196., 196., 190.,\n",
       "                          198., 199., 193., 187., 191., 194., 189., 195., 202., 198.]),\n",
       "              'yaxis': 'y'},\n",
       "             {'hovertemplate': ('species=Gentoo<br>sex=MALE<br>' ... '_length_mm=%{y}<extra></extra>'),\n",
       "              'legendgroup': 'Gentoo, MALE',\n",
       "              'marker': {'color': '#00cc96', 'symbol': 'circle'},\n",
       "              'mode': 'markers',\n",
       "              'name': 'Gentoo, MALE',\n",
       "              'orientation': 'v',\n",
       "              'showlegend': True,\n",
       "              'type': 'scatter',\n",
       "              'x': array([16.3, 15.2, 14.5, 15.3, 15.4, 16.1, 14.6, 15.7, 15.2, 15.1, 14.3, 15.8,\n",
       "                          15.1, 15. , 15.3, 15.3, 17. , 16.3, 17.3, 15.7, 16. , 15. , 15.9, 15.9,\n",
       "                          15.8, 14.1, 15. , 15.4, 15. , 15.3, 14.9, 15.7, 16.8, 16.2, 15. , 15.6,\n",
       "                          15.6, 16. , 16.3, 16.4, 15.6, 15.9, 17.3, 14.2, 17. , 17.1, 16.1, 15.7,\n",
       "                          15.8, 16.5, 17. , 15. , 16.1, 15.8, 15.1, 15.9, 16.3, 16. , 16.2, 15.7,\n",
       "                          16.1]),\n",
       "              'xaxis': 'x',\n",
       "              'y': array([230., 218., 215., 219., 215., 216., 213., 217., 221., 222., 218., 215.,\n",
       "                          215., 215., 220., 222., 230., 220., 219., 208., 225., 216., 222., 225.,\n",
       "                          215., 220., 225., 220., 220., 224., 221., 231., 230., 229., 223., 221.,\n",
       "                          221., 230., 220., 223., 221., 224., 228., 218., 230., 228., 224., 226.,\n",
       "                          216., 225., 228., 228., 215., 219., 209., 229., 230., 230., 222., 222.,\n",
       "                          213.]),\n",
       "              'yaxis': 'y'},\n",
       "             {'hovertemplate': ('species=Gentoo<br>sex=FEMALE<b' ... '_length_mm=%{y}<extra></extra>'),\n",
       "              'legendgroup': 'Gentoo, FEMALE',\n",
       "              'marker': {'color': '#00cc96', 'symbol': 'diamond'},\n",
       "              'mode': 'markers',\n",
       "              'name': 'Gentoo, FEMALE',\n",
       "              'orientation': 'v',\n",
       "              'showlegend': True,\n",
       "              'type': 'scatter',\n",
       "              'x': array([13.2, 14.1, 13.5, 14.6, 13.4, 13.7, 13.7, 14.6, 13.5, 14.5, 14.5, 14.5,\n",
       "                          13.1, 14.3, 14.2, 14.5, 14.8, 13.7, 13.6, 13.7, 13.7, 13.9, 13.9, 13.3,\n",
       "                          14.2, 14.4, 14.4, 13.9, 14.5, 13.8, 13.9, 14.2, 14.2, 15. , 14.8, 15. ,\n",
       "                          14.2, 13.8, 14.5, 14.6, 13.8, 14.4, 14. , 15. , 14.5, 14.7, 14.6, 14.4,\n",
       "                          15. , 15.5, 14.7, 14. , 15.2, 15.2, 14.1, 13.7, 14.3, 14.8]),\n",
       "              'xaxis': 'x',\n",
       "              'y': array([211., 210., 210., 211., 209., 214., 214., 210., 210., 209., 215., 213.,\n",
       "                          215., 210., 209., 207., 220., 213., 208., 208., 210., 217., 210., 213.,\n",
       "                          210., 210., 217., 208., 208., 208., 214., 219., 220., 216., 217., 216.,\n",
       "                          209., 215., 212., 212., 212., 218., 212., 218., 212., 214., 222., 203.,\n",
       "                          219., 215., 210., 208., 216., 213., 217., 214., 215., 212.]),\n",
       "              'yaxis': 'y'}],\n",
       "    'layout': {'legend': {'title': {'text': 'species, sex'}, 'tracegroupgap': 0},\n",
       "               'margin': {'t': 60},\n",
       "               'template': '...',\n",
       "               'xaxis': {'anchor': 'y', 'domain': [0.0, 1.0], 'title': {'text': 'bill_depth_mm'}},\n",
       "               'yaxis': {'anchor': 'x', 'domain': [0.0, 1.0], 'title': {'text': 'flipper_length_mm'}}}\n",
       "})"
      ]
     },
     "execution_count": 57,
     "metadata": {},
     "output_type": "execute_result"
    }
   ],
   "source": [
    "px.scatter(data,'bill_depth_mm','flipper_length_mm','species',symbol='sex',)"
   ]
  },
  {
   "cell_type": "code",
   "execution_count": 58,
   "metadata": {},
   "outputs": [
    {
     "data": {
      "text/plain": [
       "'Una función común es el append, que agrega un elemento al final de una lista.'"
      ]
     },
     "execution_count": 58,
     "metadata": {},
     "output_type": "execute_result"
    }
   ],
   "source": [
    "\"# Listas\\n\",\n",
    "\"\\n\",\n",
    "\"Una lista es un elemento que contiene múltiples valores separados por comas. \\n\",\n",
    "\"\\n\",\n",
    "\"## append\\n\",\n",
    "\"\\n\",\n",
    "\"Una función común es el append, que agrega un elemento al final de una lista.\"\n",
    "   "
   ]
  },
  {
   "cell_type": "code",
   "execution_count": 59,
   "metadata": {},
   "outputs": [
    {
     "name": "stdout",
     "output_type": "stream",
     "text": [
      "['a', 'b', 'c']\n",
      "['a', 'b', 'c', 'd']\n"
     ]
    }
   ],
   "source": [
    "lista_ejemplo = ['a','b','c']\n",
    "print(lista_ejemplo)\n",
    "\n",
    "lista_ejemplo.append('d')\n",
    "print(lista_ejemplo)"
   ]
  }
 ],
 "metadata": {
  "kernelspec": {
   "display_name": "Python 3",
   "language": "python",
   "name": "python3"
  },
  "language_info": {
   "codemirror_mode": {
    "name": "ipython",
    "version": 3
   },
   "file_extension": ".py",
   "mimetype": "text/x-python",
   "name": "python",
   "nbconvert_exporter": "python",
   "pygments_lexer": "ipython3",
   "version": "3.10.6"
  }
 },
 "nbformat": 4,
 "nbformat_minor": 2
}
